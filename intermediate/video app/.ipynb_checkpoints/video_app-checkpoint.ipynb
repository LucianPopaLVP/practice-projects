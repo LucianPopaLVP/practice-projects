{
 "cells": [
  {
   "cell_type": "code",
   "execution_count": 3,
   "id": "7b43a71f",
   "metadata": {},
   "outputs": [
    {
     "name": "stdout",
     "output_type": "stream",
     "text": [
      "Error opening the video file!\n"
     ]
    }
   ],
   "source": [
    "import cv2\n",
    "import numpy as np\n",
    "\n",
    "#Load video file\n",
    "new_capture = cv2.VideoCapture('fun.mp4')\n",
    "\n",
    "# Check if file opened succesfully\n",
    "if (new_capture.isOpened() == False):\n",
    "    print(\"Error opening the video file! Try again!\")\n",
    "    \n",
    "#Reading the video\n",
    "while(new_capture.isOpened()):\n",
    "    ret, frame = new_capture.read()\n",
    "    if ret == True:\n",
    "        cv2.imshow('Frame', frame)\n",
    "        if cv2.waitKey(25) & 0xFF == ord('q'):\n",
    "            break\n",
    "        else:\n",
    "            break\n",
    "# Release when everything is completed\n",
    "new_capture.release()\n",
    "cv2.destroyAllWindows() #close all frames\n"
   ]
  },
  {
   "cell_type": "code",
   "execution_count": null,
   "id": "65026c24",
   "metadata": {},
   "outputs": [],
   "source": []
  }
 ],
 "metadata": {
  "kernelspec": {
   "display_name": "Python 3",
   "language": "python",
   "name": "python3"
  },
  "language_info": {
   "codemirror_mode": {
    "name": "ipython",
    "version": 3
   },
   "file_extension": ".py",
   "mimetype": "text/x-python",
   "name": "python",
   "nbconvert_exporter": "python",
   "pygments_lexer": "ipython3",
   "version": "3.8.8"
  }
 },
 "nbformat": 4,
 "nbformat_minor": 5
}
