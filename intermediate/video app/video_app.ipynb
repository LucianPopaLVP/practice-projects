{
 "cells": [
  {
   "cell_type": "code",
   "execution_count": null,
   "id": "3d7363d9",
   "metadata": {},
   "outputs": [],
   "source": [
    "import opencv2\n",
    "import numpy as np\n",
    "\n",
    "#Load video file\n",
    "new_capture = cv2.VideoCapture('fun.mp4')\n",
    "\n",
    "# Check if file opened succesfully\n",
    "if (new_capture.isOpened() == False):\n",
    "    print(\"Error opening the video file!\")\n",
    "    \n",
    "#Reading the video\n",
    "while(new_capture.isOpened()):\n",
    "    ret, frame = new_capture.read()\n",
    "    if ret == True:\n",
    "        \n",
    "        if cv2.waitKey(25) & 0xFF == ord('q')"
   ]
  }
 ],
 "metadata": {
  "kernelspec": {
   "display_name": "Python 3",
   "language": "python",
   "name": "python3"
  },
  "language_info": {
   "codemirror_mode": {
    "name": "ipython",
    "version": 3
   },
   "file_extension": ".py",
   "mimetype": "text/x-python",
   "name": "python",
   "nbconvert_exporter": "python",
   "pygments_lexer": "ipython3",
   "version": "3.8.8"
  }
 },
 "nbformat": 4,
 "nbformat_minor": 5
}
