{
 "cells": [
  {
   "cell_type": "code",
   "execution_count": 4,
   "id": "4a624bc4",
   "metadata": {},
   "outputs": [],
   "source": [
    "from time import strftime\n",
    "from tkinter import Label, Tk\n",
    "\n",
    "#Window Config for clock\n",
    "window = Tk()\n",
    "window.title(\"Digital Clock\")\n",
    "window.geometry(\"250x100\")\n",
    "window.configure(bg = \"black\")\n",
    "window.resizable(False, False)\n",
    "\n",
    "#Label config\n",
    "clock_label = Label(window, bg=\"black\", fg=\"white\", font = (\"Times\", 30, 'bold'), relief='flat')\n",
    "clock_label.place( x = 20, y = 20)\n",
    "\n",
    "def updating_label():\n",
    "    current_time = strftime('%H: %M: %S')\n",
    "    clock_label.configure(text = current_time)\n",
    "    clock_label.after(80, updating_label)\n",
    "    \n",
    "updating_label()\n",
    "window.mainloop()\n",
    "\n"
   ]
  },
  {
   "cell_type": "code",
   "execution_count": null,
   "id": "f75f72da",
   "metadata": {},
   "outputs": [],
   "source": []
  }
 ],
 "metadata": {
  "kernelspec": {
   "display_name": "Python 3",
   "language": "python",
   "name": "python3"
  },
  "language_info": {
   "codemirror_mode": {
    "name": "ipython",
    "version": 3
   },
   "file_extension": ".py",
   "mimetype": "text/x-python",
   "name": "python",
   "nbconvert_exporter": "python",
   "pygments_lexer": "ipython3",
   "version": "3.8.8"
  }
 },
 "nbformat": 4,
 "nbformat_minor": 5
}
