{
 "cells": [
  {
   "cell_type": "code",
   "execution_count": 2,
   "id": "d8c7033a",
   "metadata": {},
   "outputs": [
    {
     "ename": "SyntaxError",
     "evalue": "positional argument follows keyword argument (<ipython-input-2-f50af4500c33>, line 9)",
     "output_type": "error",
     "traceback": [
      "\u001b[1;36m  File \u001b[1;32m\"<ipython-input-2-f50af4500c33>\"\u001b[1;36m, line \u001b[1;32m9\u001b[0m\n\u001b[1;33m    Play = Button(window, text = 'Play', width = 10,font = ('Times', 10), command - self.play)\u001b[0m\n\u001b[1;37m                                                                          ^\u001b[0m\n\u001b[1;31mSyntaxError\u001b[0m\u001b[1;31m:\u001b[0m positional argument follows keyword argument\n"
     ]
    }
   ],
   "source": [
    "from tkinter import *\n",
    "from tkinter import filedialog\n",
    "from pygame import mixer\n",
    "\n",
    "class Player:\n",
    "    def __init__(self, window):\n",
    "        window.geometry('320x100'); window.title('Python Tiny Player'); window.resizable(0,0)\n",
    "        Load = Button(window, text = 'Load', width = 10, font = ('Times', 10), command = self.load)\n",
    "        Play = Button(window, text = 'Play', width = 10,font = ('Times', 10), command = self.play)\n",
    "        Pause = Button(window, text = 'Pause', width = 10,font = ('Times', 10), command = self.pause)\n",
    "        Stop = Button(window, text = 'Stop', width = 10,font = ('Times', 10), command = self.stop)\n",
    "        Load.place(x=0, y=20); Play.place(x=110, y=20); Pause.place(x=22, y=20); Stop.place(x=110, y=60)\n",
    "        self.music_file = False\n",
    "        self.playing_state = False\n",
    "        \n",
    "    def load(self):\n",
    "        self.music_file = filedialog.askopenfilename()\n",
    "    \n",
    "    def play(self):\n",
    "        if self.music_file:\n",
    "            mixer.init()\n",
    "            mixer.music.load(seld.music_file)\n",
    "            mixer.music.play()\n",
    "            \n",
    "    def pause(self):\n",
    "        if not self.playing_state:\n",
    "            mixer.music.pause()\n",
    "            self.playing_state = True\n",
    "        else:\n",
    "            mixer.music.unpause()\n",
    "            self.playing_state = False\n",
    "            \n",
    "    def stop(self):\n",
    "        mixer.music.stop()\n",
    "        \n",
    "new_root = Tk()\n",
    "player_app = Player(new_root)\n",
    "new_root.mainloop()\n",
    "\n",
    "        "
   ]
  },
  {
   "cell_type": "code",
   "execution_count": null,
   "id": "7b9a19f0",
   "metadata": {},
   "outputs": [],
   "source": []
  }
 ],
 "metadata": {
  "kernelspec": {
   "display_name": "Python 3",
   "language": "python",
   "name": "python3"
  },
  "language_info": {
   "codemirror_mode": {
    "name": "ipython",
    "version": 3
   },
   "file_extension": ".py",
   "mimetype": "text/x-python",
   "name": "python",
   "nbconvert_exporter": "python",
   "pygments_lexer": "ipython3",
   "version": "3.8.8"
  }
 },
 "nbformat": 4,
 "nbformat_minor": 5
}
