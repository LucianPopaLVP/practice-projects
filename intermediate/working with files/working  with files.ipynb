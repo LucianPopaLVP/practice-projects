{
 "cells": [
  {
   "cell_type": "code",
   "execution_count": 3,
   "id": "fab962e6",
   "metadata": {},
   "outputs": [],
   "source": [
    "import numpy as np\n",
    "new_data = np.random.random((50, 4))"
   ]
  },
  {
   "cell_type": "code",
   "execution_count": 4,
   "id": "d8914597",
   "metadata": {},
   "outputs": [],
   "source": [
    "np.savetxt('main.csv', new_data, fmt = \"% 2f\", delimiter=\", \", header = \"H1, H2, H3. H4\")"
   ]
  },
  {
   "cell_type": "code",
   "execution_count": null,
   "id": "02ac839d",
   "metadata": {},
   "outputs": [],
   "source": []
  }
 ],
 "metadata": {
  "kernelspec": {
   "display_name": "Python 3",
   "language": "python",
   "name": "python3"
  },
  "language_info": {
   "codemirror_mode": {
    "name": "ipython",
    "version": 3
   },
   "file_extension": ".py",
   "mimetype": "text/x-python",
   "name": "python",
   "nbconvert_exporter": "python",
   "pygments_lexer": "ipython3",
   "version": "3.8.8"
  }
 },
 "nbformat": 4,
 "nbformat_minor": 5
}
