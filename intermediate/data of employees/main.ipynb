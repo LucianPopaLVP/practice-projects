{
 "cells": [
  {
   "cell_type": "code",
   "execution_count": 3,
   "id": "fc1233b9",
   "metadata": {},
   "outputs": [],
   "source": [
    "class Employee:\n",
    "    count = 0\n",
    "    def __init__(self, name, position, salary):\n",
    "        self.name = name\n",
    "        self.position = position\n",
    "        self.salary = salary\n",
    "        Employee.count += 1\n",
    "    \n",
    "    def displayCount(self):\n",
    "        print(\"There are %d employees\" % Employee.count)\n",
    "    \n",
    "    def displayDetails(self):\n",
    "        print(\"Name: \", self.name, \", Position:\", self.position, \", Salary:\", self.salary)\n",
    "        \n",
    "emp1 = Employee(\"employee1\", \"HR\", 30000)\n",
    "emp2 = Employee(\"employee2\", \"Manager\", 90000)\n",
    "emp3 = Employee(\"employee3\", \"Programmer\", 50000)\n",
    "emp4 = Employee(\"employee4\", \"Engineer\", 65000)\n"
   ]
  },
  {
   "cell_type": "code",
   "execution_count": 4,
   "id": "ff290f87",
   "metadata": {},
   "outputs": [
    {
     "name": "stdout",
     "output_type": "stream",
     "text": [
      "There are 4 employees\n"
     ]
    }
   ],
   "source": [
    "emp4.displayCount()"
   ]
  },
  {
   "cell_type": "code",
   "execution_count": 5,
   "id": "412b2d3c",
   "metadata": {},
   "outputs": [
    {
     "name": "stdout",
     "output_type": "stream",
     "text": [
      "**Information about Employee**\n",
      "Name:  employee1 , Position: HR , Salary: 30000\n",
      "Name:  employee2 , Position: Manager , Salary: 90000\n",
      "Name:  employee3 , Position: Programmer , Salary: 50000\n",
      "Name:  employee4 , Position: Engineer , Salary: 65000\n"
     ]
    }
   ],
   "source": [
    "print(\"**Information about Employee**\")\n",
    "emp1.displayDetails()\n",
    "emp2.displayDetails()\n",
    "emp3.displayDetails()\n",
    "emp4.displayDetails()"
   ]
  },
  {
   "cell_type": "code",
   "execution_count": null,
   "id": "105d6bb1",
   "metadata": {},
   "outputs": [],
   "source": []
  }
 ],
 "metadata": {
  "kernelspec": {
   "display_name": "Python 3",
   "language": "python",
   "name": "python3"
  },
  "language_info": {
   "codemirror_mode": {
    "name": "ipython",
    "version": 3
   },
   "file_extension": ".py",
   "mimetype": "text/x-python",
   "name": "python",
   "nbconvert_exporter": "python",
   "pygments_lexer": "ipython3",
   "version": "3.8.8"
  }
 },
 "nbformat": 4,
 "nbformat_minor": 5
}
