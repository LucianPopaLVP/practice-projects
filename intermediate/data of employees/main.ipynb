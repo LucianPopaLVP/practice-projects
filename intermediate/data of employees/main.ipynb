{
 "cells": [
  {
   "cell_type": "code",
   "execution_count": 1,
   "id": "9d24d91d",
   "metadata": {},
   "outputs": [],
   "source": [
    "class Employee:\n",
    "    count = 0\n",
    "    def __init__(self, name, position, salary):\n",
    "        self.name = name\n",
    "        self.position = position\n",
    "        self.salary = salary\n",
    "        Employee.count += 1\n",
    "    \n",
    "    def displayCount(self):\n",
    "        print(\"There are %d employees\" % Employee.count)\n",
    "    \n",
    "    def displayDetails(self):\n",
    "        print(\"Name: \", self.name, \", Position:\", self.position, \", Salary:\", self.salary)\n",
    "        \n",
    "emp1 = Employee(\"employee1\", \"HR\", 30000)\n",
    "emp2 = Employee(\"employee2\", \"Manager\", 90000)\n",
    "emp3 = Employee(\"employee3\", \"Programmer\", 50000)\n",
    "emp4 = Employee(\"employee4\", \"Engineer\", 65000)\n",
    "\n"
   ]
  },
  {
   "cell_type": "code",
   "execution_count": null,
   "id": "175eb148",
   "metadata": {},
   "outputs": [],
   "source": []
  }
 ],
 "metadata": {
  "kernelspec": {
   "display_name": "Python 3",
   "language": "python",
   "name": "python3"
  },
  "language_info": {
   "codemirror_mode": {
    "name": "ipython",
    "version": 3
   },
   "file_extension": ".py",
   "mimetype": "text/x-python",
   "name": "python",
   "nbconvert_exporter": "python",
   "pygments_lexer": "ipython3",
   "version": "3.8.8"
  }
 },
 "nbformat": 4,
 "nbformat_minor": 5
}
