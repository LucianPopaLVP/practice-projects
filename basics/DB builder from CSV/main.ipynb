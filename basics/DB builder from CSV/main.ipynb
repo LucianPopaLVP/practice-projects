{
 "cells": [
  {
   "cell_type": "code",
   "execution_count": null,
   "id": "05a302fb",
   "metadata": {},
   "outputs": [],
   "source": [
    "import sqlite3\n",
    "import pandas as pd\n",
    "\n",
    "#SQLite database connection\n",
    "new_connection = sqlite4.connect(r'C:\\Users\\User\\desktop\\Python Files\\demo.db')\n",
    "\n",
    "#Loading data into DataFrame\n",
    "demo_data = pd.read_csv('demo.csv')\n",
    "\n",
    "#write the data to a sqlite table\n",
    "demo_data.to_sql('demo', new_connecton, if_exists = 'replace', index = False)\n",
    "\n",
    "#Close connection to SQlite DB\n",
    "new_connection.close()"
   ]
  }
 ],
 "metadata": {
  "kernelspec": {
   "display_name": "Python 3",
   "language": "python",
   "name": "python3"
  },
  "language_info": {
   "codemirror_mode": {
    "name": "ipython",
    "version": 3
   },
   "file_extension": ".py",
   "mimetype": "text/x-python",
   "name": "python",
   "nbconvert_exporter": "python",
   "pygments_lexer": "ipython3",
   "version": "3.8.8"
  }
 },
 "nbformat": 4,
 "nbformat_minor": 5
}
