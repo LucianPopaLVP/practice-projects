{
 "cells": [
  {
   "cell_type": "markdown",
   "id": "671afc75",
   "metadata": {},
   "source": [
    "## Choosing the right estimator/algorithm\n",
    "\n",
    "Some thing to note:\n",
    "    * Sklearn refers to ML models, algorithms as estimators;\n",
    "    *Classification problem - predicting a cetegory ( ex heart disease or not)\n",
    "        * Sometimes you'll see 'clf'(short for classifier) used as a classification estimator;\n",
    "    * regression problem - predicting a number (ex. selling price of a car)\n",
    "    "
   ]
  },
  {
   "cell_type": "code",
   "execution_count": null,
   "id": "c8056d04",
   "metadata": {},
   "outputs": [],
   "source": []
  }
 ],
 "metadata": {
  "kernelspec": {
   "display_name": "Python 3",
   "language": "python",
   "name": "python3"
  },
  "language_info": {
   "codemirror_mode": {
    "name": "ipython",
    "version": 3
   },
   "file_extension": ".py",
   "mimetype": "text/x-python",
   "name": "python",
   "nbconvert_exporter": "python",
   "pygments_lexer": "ipython3",
   "version": "3.8.8"
  }
 },
 "nbformat": 4,
 "nbformat_minor": 5
}
