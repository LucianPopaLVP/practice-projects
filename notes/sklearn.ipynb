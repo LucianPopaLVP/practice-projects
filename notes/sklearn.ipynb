{
 "cells": [
  {
   "cell_type": "markdown",
   "id": "20eb436e",
   "metadata": {},
   "source": [
    "## Introduction to Scikit-Learn (sklearn)\n",
    "Note: This workflow assumes your data is ready to be used with machine learning models (is numerical, has no missing values)."
   ]
  },
  {
   "cell_type": "code",
   "execution_count": null,
   "id": "68c1fa20",
   "metadata": {},
   "outputs": [],
   "source": []
  }
 ],
 "metadata": {
  "kernelspec": {
   "display_name": "Python 3",
   "language": "python",
   "name": "python3"
  },
  "language_info": {
   "codemirror_mode": {
    "name": "ipython",
    "version": 3
   },
   "file_extension": ".py",
   "mimetype": "text/x-python",
   "name": "python",
   "nbconvert_exporter": "python",
   "pygments_lexer": "ipython3",
   "version": "3.8.8"
  }
 },
 "nbformat": 4,
 "nbformat_minor": 5
}
