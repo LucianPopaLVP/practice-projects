{
 "cells": [
  {
   "cell_type": "markdown",
   "id": "5b5c8a8c",
   "metadata": {},
   "source": [
    "## Improving a model"
   ]
  },
  {
   "cell_type": "code",
   "execution_count": 1,
   "id": "87c11ee1",
   "metadata": {},
   "outputs": [],
   "source": [
    "# First predictions = baseline predictions.\n",
    "# First model = baseline model."
   ]
  },
  {
   "cell_type": "markdown",
   "id": "dadeac51",
   "metadata": {},
   "source": [
    "From a data prespective:\n",
    "* Could I collect more date? (generally, more date = better)\n",
    "* Could I improve the data? (more feature within a sample)\n",
    "\n",
    "From a model perspective:\n",
    "* Is there a better model I can use?"
   ]
  }
 ],
 "metadata": {
  "kernelspec": {
   "display_name": "Python 3 (ipykernel)",
   "language": "python",
   "name": "python3"
  },
  "language_info": {
   "codemirror_mode": {
    "name": "ipython",
    "version": 3
   },
   "file_extension": ".py",
   "mimetype": "text/x-python",
   "name": "python",
   "nbconvert_exporter": "python",
   "pygments_lexer": "ipython3",
   "version": "3.8.12"
  }
 },
 "nbformat": 4,
 "nbformat_minor": 5
}
