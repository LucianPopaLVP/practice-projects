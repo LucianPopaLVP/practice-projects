{
 "cells": [
  {
   "cell_type": "markdown",
   "id": "ea6cf2dd",
   "metadata": {},
   "source": [
    "## Improving a model"
   ]
  },
  {
   "cell_type": "code",
   "execution_count": 1,
   "id": "ab95425d",
   "metadata": {},
   "outputs": [],
   "source": [
    "# First predictions = baseline predictions.\n",
    "# First model = baseline model."
   ]
  },
  {
   "cell_type": "markdown",
   "id": "6e76dc95",
   "metadata": {},
   "source": [
    "From a data prespective:\n",
    "* Could I collect more date? (generally, more date = better)\n",
    "* Could I improve the data? (more feature within a sample)\n",
    "\n",
    "From a model perspective:\n",
    "* Is there a better model I can use?\n",
    "* Could I improve the currect model?\n",
    "\n",
    "Parameter = model find these patterns in data\n",
    "Hyperparameters = settings on a model you can adjut to try to improve its \n",
    "ability to find patterns."
   ]
  },
  {
   "cell_type": "code",
   "execution_count": 2,
   "id": "e64eb1e6",
   "metadata": {},
   "outputs": [],
   "source": [
    "#Standard import for all projects\n",
    "import numpy as np\n",
    "import pandas as pd\n",
    "import matplotlib.pyplot as plt\n",
    "%matplotlib inline"
   ]
  },
  {
   "cell_type": "code",
   "execution_count": 4,
   "id": "c1b54b8d",
   "metadata": {},
   "outputs": [],
   "source": [
    "from sklearn.ensemble import RandomForestClassifier\n",
    "\n",
    "clf = RandomForestClassifier()"
   ]
  },
  {
   "cell_type": "code",
   "execution_count": 5,
   "id": "b1165fe3",
   "metadata": {},
   "outputs": [
    {
     "data": {
      "text/plain": [
       "{'bootstrap': True,\n",
       " 'ccp_alpha': 0.0,\n",
       " 'class_weight': None,\n",
       " 'criterion': 'gini',\n",
       " 'max_depth': None,\n",
       " 'max_features': 'auto',\n",
       " 'max_leaf_nodes': None,\n",
       " 'max_samples': None,\n",
       " 'min_impurity_decrease': 0.0,\n",
       " 'min_samples_leaf': 1,\n",
       " 'min_samples_split': 2,\n",
       " 'min_weight_fraction_leaf': 0.0,\n",
       " 'n_estimators': 100,\n",
       " 'n_jobs': None,\n",
       " 'oob_score': False,\n",
       " 'random_state': None,\n",
       " 'verbose': 0,\n",
       " 'warm_start': False}"
      ]
     },
     "execution_count": 5,
     "metadata": {},
     "output_type": "execute_result"
    }
   ],
   "source": [
    "clf.get_params()"
   ]
  },
  {
   "cell_type": "code",
   "execution_count": null,
   "id": "2258fa5b",
   "metadata": {},
   "outputs": [],
   "source": []
  }
 ],
 "metadata": {
  "kernelspec": {
   "display_name": "Python 3 (ipykernel)",
   "language": "python",
   "name": "python3"
  },
  "language_info": {
   "codemirror_mode": {
    "name": "ipython",
    "version": 3
   },
   "file_extension": ".py",
   "mimetype": "text/x-python",
   "name": "python",
   "nbconvert_exporter": "python",
   "pygments_lexer": "ipython3",
   "version": "3.8.12"
  }
 },
 "nbformat": 4,
 "nbformat_minor": 5
}
