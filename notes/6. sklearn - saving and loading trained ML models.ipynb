{
 "cells": [
  {
   "cell_type": "markdown",
   "id": "b291b528",
   "metadata": {},
   "source": [
    "## Saving and loading trained ML models\n",
    "\n",
    "Two ways:\n",
    "1. With Python's 'pickle' module\n",
    "2. With the 'joblib' module"
   ]
  },
  {
   "cell_type": "code",
   "execution_count": null,
   "id": "2d392b1a",
   "metadata": {},
   "outputs": [],
   "source": [
    "# Pickle module\n",
    "import pickle"
   ]
  }
 ],
 "metadata": {
  "kernelspec": {
   "display_name": "Python 3 (ipykernel)",
   "language": "python",
   "name": "python3"
  },
  "language_info": {
   "codemirror_mode": {
    "name": "ipython",
    "version": 3
   },
   "file_extension": ".py",
   "mimetype": "text/x-python",
   "name": "python",
   "nbconvert_exporter": "python",
   "pygments_lexer": "ipython3",
   "version": "3.8.12"
  }
 },
 "nbformat": 4,
 "nbformat_minor": 5
}
