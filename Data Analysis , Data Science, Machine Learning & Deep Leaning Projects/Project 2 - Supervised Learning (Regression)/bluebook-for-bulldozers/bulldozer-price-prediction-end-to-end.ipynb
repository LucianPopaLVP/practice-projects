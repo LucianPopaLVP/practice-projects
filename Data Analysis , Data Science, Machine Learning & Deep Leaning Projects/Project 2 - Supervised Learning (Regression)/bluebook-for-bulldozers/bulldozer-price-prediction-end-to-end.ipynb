{
 "cells": [
  {
   "cell_type": "markdown",
   "id": "530facf4",
   "metadata": {},
   "source": [
    "# Bulldozer Price Prediction using ML(Regression)"
   ]
  },
  {
   "cell_type": "markdown",
   "id": "cf38f020",
   "metadata": {},
   "source": [
    "# 🚜Predicting the Sale Price of Bulldozers using Machine learning\n",
    "\n",
    "In this notebook, I am  going to go through an example of ML project with the goal of predictiong the sale price of bulldozerz."
   ]
  },
  {
   "cell_type": "markdown",
   "id": "4837da1d",
   "metadata": {},
   "source": [
    "## 1. Problem definition\n",
    "> How well can I predict the furute sale price of a bulldozer, given its characteristics and similarities with previously sold units.\n",
    "## 2. Data\n",
    "\n",
    "## 3. Evaluation\n",
    "\n",
    "## 4. Features"
   ]
  },
  {
   "cell_type": "code",
   "execution_count": 1,
   "id": "d759184a",
   "metadata": {},
   "outputs": [],
   "source": [
    "# Importing need \n",
    "import numpy as np\n",
    "import pandas as od\n",
    "import sklearn\n",
    "import matplotlib.pyplot as plt"
   ]
  },
  {
   "cell_type": "code",
   "execution_count": null,
   "id": "f8882c1b",
   "metadata": {},
   "outputs": [],
   "source": []
  }
 ],
 "metadata": {
  "kernelspec": {
   "display_name": "Python 3 (ipykernel)",
   "language": "python",
   "name": "python3"
  },
  "language_info": {
   "codemirror_mode": {
    "name": "ipython",
    "version": 3
   },
   "file_extension": ".py",
   "mimetype": "text/x-python",
   "name": "python",
   "nbconvert_exporter": "python",
   "pygments_lexer": "ipython3",
   "version": "3.8.12"
  }
 },
 "nbformat": 4,
 "nbformat_minor": 5
}
