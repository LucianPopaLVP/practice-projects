{
 "cells": [
  {
   "cell_type": "markdown",
   "id": "530facf4",
   "metadata": {},
   "source": [
    "# Bulldozer Price Prediction using ML(Regression)"
   ]
  },
  {
   "cell_type": "markdown",
   "id": "8af05aa7",
   "metadata": {},
   "source": [
    "# 🚜Predicting the Sale Price of Bulldozers using Machine learning\n",
    "\n",
    "In this notebook, I am  going to go through an example of ML project with the goal of predictiong the sale price of bulldozerz."
   ]
  },
  {
   "cell_type": "markdown",
   "id": "0fb83c44",
   "metadata": {},
   "source": [
    "## 1. Problem definition\n",
    "> How well can I predict the furute sale price of a bulldozer, given its characteristics and similarities with previously sold units.\n",
    "## 2. Data\n",
    "> Data is downloaded from Kaggle.\n",
    "\n",
    "The data for this project is split into three parts:\n",
    "\n",
    "*Train.csv is the training set, which contains data through the end of 2011.\n",
    "*Valid.csv is the validation set, which contains data from January 1, 2012 - April 30, 2012 You make predictions on this set throughout the majority of the competition. Your score on this set is used to create the public leaderboard.\n",
    "*Test.csv is the test set, which won't be released until the last week of the competition. It contains data from May 1, 2012 - November 2012. Your score on the test set determines your final rank for the competition.\n",
    "## 3. Evaluation\n",
    "\n",
    "## 4. Features"
   ]
  },
  {
   "cell_type": "code",
   "execution_count": 2,
   "id": "d759184a",
   "metadata": {},
   "outputs": [],
   "source": [
    "# Importing dependencies\n",
    "import numpy as np\n",
    "import pandas as od\n",
    "import sklearn\n",
    "import matplotlib.pyplot as plt"
   ]
  },
  {
   "cell_type": "code",
   "execution_count": null,
   "id": "ee63120a",
   "metadata": {},
   "outputs": [],
   "source": []
  }
 ],
 "metadata": {
  "kernelspec": {
   "display_name": "Python 3 (ipykernel)",
   "language": "python",
   "name": "python3"
  },
  "language_info": {
   "codemirror_mode": {
    "name": "ipython",
    "version": 3
   },
   "file_extension": ".py",
   "mimetype": "text/x-python",
   "name": "python",
   "nbconvert_exporter": "python",
   "pygments_lexer": "ipython3",
   "version": "3.8.12"
  }
 },
 "nbformat": 4,
 "nbformat_minor": 5
}
