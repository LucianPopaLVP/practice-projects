{
 "cells": [
  {
   "cell_type": "code",
   "execution_count": null,
   "id": "69aad736",
   "metadata": {},
   "outputs": [],
   "source": [
    "# Read in dataset\n",
    "import pandas as pd\n",
    "apps_with_duplicates = pd.read_csv(\"/google.csv\")\n",
    "\n",
    "# Drop duplicates from apps_with_duplicates\n",
    "apps = apps_with_duplicates.drop_duplicates()\n",
    "\n",
    "# Print the total number of apps\n",
    "print('Total number of apps in the dataset = ', )\n",
    "\n",
    "# Have a look at a random sample of 5 rows\n",
    "print(apps.sample(5))"
   ]
  }
 ],
 "metadata": {
  "kernelspec": {
   "display_name": "Python 3 (ipykernel)",
   "language": "python",
   "name": "python3"
  },
  "language_info": {
   "codemirror_mode": {
    "name": "ipython",
    "version": 3
   },
   "file_extension": ".py",
   "mimetype": "text/x-python",
   "name": "python",
   "nbconvert_exporter": "python",
   "pygments_lexer": "ipython3",
   "version": "3.8.12"
  }
 },
 "nbformat": 4,
 "nbformat_minor": 5
}
