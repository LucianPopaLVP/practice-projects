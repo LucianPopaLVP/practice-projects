{
 "cells": [
  {
   "cell_type": "markdown",
   "id": "c2b6b090",
   "metadata": {},
   "source": [
    "# Predicting heart disease using ML\n",
    "\n",
    "This notebook looks into various Python-based ML and DS libraries in a attmpt\n",
    "to buil a ML model capable of predicting wheather or not someone has heart disease based on their medical attributes.\n",
    "\n",
    "Approach:\n",
    "1. Problem definition;\n",
    "2. Data;\n",
    "3. Evaluation;\n",
    "4. Features;\n",
    "5. Modeling;\n",
    "6. Experimentation."
   ]
  },
  {
   "cell_type": "markdown",
   "id": "80575d82",
   "metadata": {},
   "source": [
    "## 1. Problem definition"
   ]
  },
  {
   "cell_type": "markdown",
   "id": "c987c7fe",
   "metadata": {},
   "source": [
    "### Given clinical paramaters about a patient, can the model predict wheather or not they have a heart disease?"
   ]
  },
  {
   "cell_type": "markdown",
   "id": "237425cb",
   "metadata": {},
   "source": [
    "## 2. Data"
   ]
  },
  {
   "cell_type": "markdown",
   "id": "8a2fbbb1",
   "metadata": {},
   "source": [
    "The original data came from the Cleavland data from the UCI Machine Learning Repository. https://archive.ics.uci.edu/ml/datasets/heart+Disease\n",
    "\n",
    "There is also a version of it available on Kaggle. https://www.kaggle.com/ronitf/heart-disease-uci"
   ]
  },
  {
   "cell_type": "markdown",
   "id": "a4c8d0cc",
   "metadata": {},
   "source": [
    "## 3. Evaluation"
   ]
  },
  {
   "cell_type": "code",
   "execution_count": null,
   "id": "0b919d21",
   "metadata": {},
   "outputs": [],
   "source": []
  }
 ],
 "metadata": {
  "kernelspec": {
   "display_name": "Python 3 (ipykernel)",
   "language": "python",
   "name": "python3"
  },
  "language_info": {
   "codemirror_mode": {
    "name": "ipython",
    "version": 3
   },
   "file_extension": ".py",
   "mimetype": "text/x-python",
   "name": "python",
   "nbconvert_exporter": "python",
   "pygments_lexer": "ipython3",
   "version": "3.8.12"
  }
 },
 "nbformat": 4,
 "nbformat_minor": 5
}
