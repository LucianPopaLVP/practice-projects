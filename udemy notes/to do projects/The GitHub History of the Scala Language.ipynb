{
 "cells": [
  {
   "cell_type": "markdown",
   "id": "406188f9",
   "metadata": {},
   "source": [
    "1. Scala's real-world project repository data\n",
    "With almost 30k commits and a history spanning over ten years, Scala is a mature programming language. It is a general-purpose programming language that has recently become another prominent language for data scientists.\n",
    "\n",
    "Scala is also an open source project. Open source projects have the advantage that their entire development histories -- who made changes, what was changed, code reviews, etc. -- are publicly available.\n",
    "\n",
    "We're going to read in, clean up, and visualize the real world project repository of Scala that spans data from a version control system (Git) as well as a project hosting site (GitHub). We will find out who has had the most influence on its development and who are the experts.\n",
    "\n",
    "The dataset we will use, which has been previously mined and extracted from GitHub, is comprised of three files:\n",
    "\n",
    "1. pulls_2011-2013.csv contains the basic information about the pull requests, and spans from the end of 2011 up to (but not including) 2014.\n",
    "2. pulls_2014-2018.csv contains identical information, and spans from 2014 up to 2018.\n",
    "3. pull_files.csv contains the files that were modified by each pull request."
   ]
  },
  {
   "cell_type": "code",
   "execution_count": null,
   "id": "618a29d5",
   "metadata": {},
   "outputs": [],
   "source": [
    "# Importing pandas\n",
    "# ... YOUR CODE FOR TASK 1 ...\n",
    "\n",
    "# Loading in the data\n",
    "pulls_one = ...\n",
    "pulls_two = ...\n",
    "pull_files = ... "
   ]
  },
  {
   "cell_type": "markdown",
   "id": "4afb64c1",
   "metadata": {},
   "source": [
    "2. Preparing and cleaning the data\n",
    "First, we will need to combine the data from the two separate pull DataFrames.\n",
    "\n",
    "Next, the raw data extracted from GitHub contains dates in the ISO8601 format. However, pandas imports them as regular strings. To make our analysis easier, we need to convert the strings into Python's DateTime objects. DateTime objects have the important property that they can be compared and sorted.\n",
    "\n",
    "The pull request times are all in UTC (also known as Coordinated Universal Time). The commit times, however, are in the local time of the author with time zone information (number of hours difference from UTC). To make comparisons easy, we should convert all times to UTC.\n",
    "\n"
   ]
  },
  {
   "cell_type": "code",
   "execution_count": null,
   "id": "2ced2f60",
   "metadata": {},
   "outputs": [],
   "source": [
    "# Append pulls_one to pulls_two\n",
    "pulls = ...\n",
    "\n",
    "# Convert the date for the pulls object\n",
    "pulls['date'] = ..."
   ]
  },
  {
   "cell_type": "markdown",
   "id": "a62bd6c0",
   "metadata": {},
   "source": [
    "3. Merging the DataFrames\n",
    "The data extracted comes in two separate files. Merging the two DataFrames will make it easier for us to analyze the data in the future tasks."
   ]
  },
  {
   "cell_type": "code",
   "execution_count": null,
   "id": "7099d603",
   "metadata": {},
   "outputs": [],
   "source": [
    "# Merge the two DataFrames\n",
    "data = ..."
   ]
  },
  {
   "cell_type": "markdown",
   "id": "3138e767",
   "metadata": {},
   "source": [
    "4. Is the project still actively maintained?\n",
    "The activity in an open source project is not very consistent. Some projects might be active for many years after the initial release, while others can slowly taper out into oblivion. Before committing to contributing to a project, it is important to understand the state of the project. Is development going steadily, or is there a drop? Has the project been abandoned altogether?\n",
    "\n",
    "The data used in this project was collected in January of 2018. We are interested in the evolution of the number of contributions up to that date.\n",
    "\n",
    "For Scala, we will do this by plotting a chart of the project's activity. We will calculate the number of pull requests submitted each (calendar) month during the project's lifetime. We will then plot these numbers to see the trend of contributions.\n",
    "\n",
    "A helpful reminder of how to access various components of a date can be found in this exercise of Data Manipulation with pandas\n",
    "\n",
    "Additionally, recall that you can group by multiple variables by passing a list to groupby(). This video from Data Manipulation with pandas should help!"
   ]
  },
  {
   "cell_type": "code",
   "execution_count": null,
   "id": "4ca5ea32",
   "metadata": {},
   "outputs": [],
   "source": [
    "%matplotlib inline\n",
    "\n",
    "# Create a column that will store the month\n",
    "data['month'] = ...\n",
    "\n",
    "# Create a column that will store the year\n",
    "data['year'] = ...\n",
    "\n",
    "# Group by the month and year and count the pull requests\n",
    "counts = ...\n",
    "\n",
    "# Plot the results\n",
    "counts.plot(kind='bar', figsize = (12,4))"
   ]
  },
  {
   "cell_type": "markdown",
   "id": "b8c01742",
   "metadata": {},
   "source": [
    "5. Is there camaraderie in the project?\n",
    "The organizational structure varies from one project to another, and it can influence your success as a contributor. A project that has a very small community might not be the best one to start working on. The small community might indicate a high barrier of entry. This can be caused by several factors, including a community that is reluctant to accept pull requests from \"outsiders,\" that the code base is hard to work with, etc. However, a large community can serve as an indicator that the project is regularly accepting pull requests from new contributors. Such a project would be a good place to start.\n",
    "\n",
    "In order to evaluate the dynamics of the community, we will plot a histogram of the number of pull requests submitted by each user. A distribution that shows that there are few people that only contribute a small number of pull requests can be used as in indicator that the project is not welcoming of new contributors."
   ]
  },
  {
   "cell_type": "code",
   "execution_count": null,
   "id": "e966566e",
   "metadata": {},
   "outputs": [],
   "source": []
  },
  {
   "cell_type": "code",
   "execution_count": null,
   "id": "6d773209",
   "metadata": {},
   "outputs": [],
   "source": []
  },
  {
   "cell_type": "code",
   "execution_count": null,
   "id": "9dcae921",
   "metadata": {},
   "outputs": [],
   "source": []
  },
  {
   "cell_type": "code",
   "execution_count": null,
   "id": "0dc82f19",
   "metadata": {},
   "outputs": [],
   "source": []
  },
  {
   "cell_type": "code",
   "execution_count": null,
   "id": "aea61a82",
   "metadata": {},
   "outputs": [],
   "source": []
  },
  {
   "cell_type": "code",
   "execution_count": null,
   "id": "e0748043",
   "metadata": {},
   "outputs": [],
   "source": []
  }
 ],
 "metadata": {
  "kernelspec": {
   "display_name": "Python 3 (ipykernel)",
   "language": "python",
   "name": "python3"
  },
  "language_info": {
   "codemirror_mode": {
    "name": "ipython",
    "version": 3
   },
   "file_extension": ".py",
   "mimetype": "text/x-python",
   "name": "python",
   "nbconvert_exporter": "python",
   "pygments_lexer": "ipython3",
   "version": "3.8.12"
  }
 },
 "nbformat": 4,
 "nbformat_minor": 5
}
