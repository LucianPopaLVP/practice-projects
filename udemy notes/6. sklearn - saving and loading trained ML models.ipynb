{
 "cells": [
  {
   "cell_type": "markdown",
   "id": "b291b528",
   "metadata": {},
   "source": [
    "## Saving and loading trained ML models\n",
    "\n",
    "Two ways:\n",
    "1. With Python's 'pickle' module\n",
    "2. With the 'joblib' module"
   ]
  },
  {
   "cell_type": "markdown",
   "id": "815dfb99",
   "metadata": {},
   "source": [
    "### 1. With Python's 'pickle' module"
   ]
  },
  {
   "cell_type": "code",
   "execution_count": 1,
   "id": "2d392b1a",
   "metadata": {},
   "outputs": [],
   "source": [
    "import pickle\n",
    "\n",
    "# Save an existing model to file\n",
    "pickle.dump(gs_clf, open(\"gs_random_forest_model_1.pkl\", \"wb\"))"
   ]
  },
  {
   "cell_type": "code",
   "execution_count": null,
   "id": "617dc3bf",
   "metadata": {},
   "outputs": [],
   "source": [
    "# Load a saved model\n",
    "loaded_picle_model = pickle.load(open(\"gs_random_forest_model_1.pkl\", \"rb\"))"
   ]
  },
  {
   "cell_type": "code",
   "execution_count": null,
   "id": "5ba562ee",
   "metadata": {},
   "outputs": [],
   "source": [
    "# make some predictions\n",
    "pickle_y_preds = loaded_picle_model.predict(X_test)\n",
    "evaluate_preds(y_test, pickle_y_preds)"
   ]
  },
  {
   "cell_type": "markdown",
   "id": "67c93539",
   "metadata": {},
   "source": [
    "## 2. With the 'joblib' module"
   ]
  },
  {
   "cell_type": "code",
   "execution_count": null,
   "id": "02c070da",
   "metadata": {},
   "outputs": [],
   "source": []
  }
 ],
 "metadata": {
  "kernelspec": {
   "display_name": "Python 3 (ipykernel)",
   "language": "python",
   "name": "python3"
  },
  "language_info": {
   "codemirror_mode": {
    "name": "ipython",
    "version": 3
   },
   "file_extension": ".py",
   "mimetype": "text/x-python",
   "name": "python",
   "nbconvert_exporter": "python",
   "pygments_lexer": "ipython3",
   "version": "3.8.12"
  }
 },
 "nbformat": 4,
 "nbformat_minor": 5
}
