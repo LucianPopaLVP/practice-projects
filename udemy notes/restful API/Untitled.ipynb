{
 "cells": [
  {
   "cell_type": "markdown",
   "id": "47a35c03",
   "metadata": {},
   "source": [
    "### Objectives:\n",
    "After completing this lab you will be able to:\n",
    "\n",
    "1.Create and Use APIs in Python\n",
    "\n",
    "Introduction:\n",
    "\n",
    "An API lets two pieces of software talk to each other. Just like a function, you don’t have to know how the API works only its inputs and outputs. An essential type of API is a REST API that allows you to access resources via the internet. In this lab, we will review the Pandas Library in the context of an API, we will also review a basic REST API"
   ]
  },
  {
   "cell_type": "code",
   "execution_count": null,
   "id": "b725eed3",
   "metadata": {},
   "outputs": [],
   "source": [
    "!pip install pycoingecko\n",
    "!pip install plotly\n",
    "!pip install mplfinance"
   ]
  },
  {
   "cell_type": "code",
   "execution_count": null,
   "id": "63ebaf75",
   "metadata": {},
   "outputs": [],
   "source": []
  }
 ],
 "metadata": {
  "kernelspec": {
   "display_name": "Python 3 (ipykernel)",
   "language": "python",
   "name": "python3"
  },
  "language_info": {
   "codemirror_mode": {
    "name": "ipython",
    "version": 3
   },
   "file_extension": ".py",
   "mimetype": "text/x-python",
   "name": "python",
   "nbconvert_exporter": "python",
   "pygments_lexer": "ipython3",
   "version": "3.8.12"
  }
 },
 "nbformat": 4,
 "nbformat_minor": 5
}
