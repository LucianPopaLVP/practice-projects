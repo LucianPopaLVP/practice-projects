{
 "cells": [
  {
   "cell_type": "markdown",
   "metadata": {},
   "source": [
    "# Machine Learning Foundation\n",
    "\n",
    "## Section 2, Part c: Cross Validation "
   ]
  },
  {
   "cell_type": "markdown",
   "metadata": {},
   "source": [
    "## Learning objectives\n",
    "\n",
    "By the end of this lesson, you will be able to:\n",
    "\n",
    "* Chain multiple data processing steps together using `Pipeline`\n",
    "* Use the `KFolds` object to split data into multiple folds.\n",
    "* Perform cross validation using SciKit Learn with `cross_val_predict` and `GridSearchCV`\n"
   ]
  },
  {
   "cell_type": "code",
   "execution_count": 1,
   "metadata": {
    "ExecuteTime": {
     "end_time": "2019-02-19T17:20:55.865735Z",
     "start_time": "2019-02-19T17:20:54.685698Z"
    }
   },
   "outputs": [],
   "source": [
    "import numpy as np\n",
    "import pickle\n",
    "import pandas as pd\n",
    "import matplotlib.pyplot as plt\n",
    "\n",
    "from sklearn.preprocessing import StandardScaler, PolynomialFeatures\n",
    "from sklearn.model_selection import KFold, cross_val_predict\n",
    "from sklearn.linear_model import LinearRegression, Lasso, Ridge\n",
    "from sklearn.metrics import r2_score\n",
    "from sklearn.pipeline import Pipeline"
   ]
  },
  {
   "cell_type": "code",
   "execution_count": 4,
   "metadata": {
    "ExecuteTime": {
     "end_time": "2019-02-19T17:20:58.445911Z",
     "start_time": "2019-02-19T17:20:58.440191Z"
    }
   },
   "outputs": [],
   "source": [
    "# Note we are loading a slightly different (\"cleaned\") pickle file\n",
    "boston = pickle.load(open('hBigCaU0QRiYoAmlNGEYjA_94c89106c77a45a9a75a0234ad42f966_boston_housing_clean.pickle', \"rb\" ))"
   ]
  },
  {
   "cell_type": "code",
   "execution_count": 5,
   "metadata": {
    "ExecuteTime": {
     "end_time": "2019-02-19T17:21:01.676948Z",
     "start_time": "2019-02-19T17:21:01.671315Z"
    }
   },
   "outputs": [
    {
     "data": {
      "text/plain": [
       "dict_keys(['dataframe', 'description'])"
      ]
     },
     "execution_count": 5,
     "metadata": {},
     "output_type": "execute_result"
    }
   ],
   "source": [
    "boston.keys()"
   ]
  },
  {
   "cell_type": "code",
   "execution_count": 6,
   "metadata": {
    "ExecuteTime": {
     "end_time": "2019-02-19T17:21:10.682135Z",
     "start_time": "2019-02-19T17:21:10.678835Z"
    }
   },
   "outputs": [],
   "source": [
    "boston_data = boston['dataframe']\n",
    "boston_description = boston['description']"
   ]
  },
  {
   "cell_type": "code",
   "execution_count": 10,
   "metadata": {},
   "outputs": [
    {
     "name": "stdout",
     "output_type": "stream",
     "text": [
      "Boston House Prices dataset\n",
      "===========================\n",
      "\n",
      "Notes\n",
      "------\n",
      "Data Set Characteristics:  \n",
      "\n",
      "    :Number of Instances: 506 \n",
      "\n",
      "    :Number of Attributes: 13 numeric/categorical predictive\n",
      "    \n",
      "    :Median Value (attribute 14) is usually the target\n",
      "\n",
      "    :Attribute Information (in order):\n",
      "        - CRIM     per capita crime rate by town\n",
      "        - ZN       proportion of residential land zoned for lots over 25,000 sq.ft.\n",
      "        - INDUS    proportion of non-retail business acres per town\n",
      "        - CHAS     Charles River dummy variable (= 1 if tract bounds river; 0 otherwise)\n",
      "        - NOX      nitric oxides concentration (parts per 10 million)\n",
      "        - RM       average number of rooms per dwelling\n",
      "        - AGE      proportion of owner-occupied units built prior to 1940\n",
      "        - DIS      weighted distances to five Boston employment centres\n",
      "        - RAD      index of accessibility to radial highways\n",
      "        - TAX      full-value property-tax rate per $10,000\n",
      "        - PTRATIO  pupil-teacher ratio by town\n",
      "        - B        1000(Bk - 0.63)^2 where Bk is the proportion of blacks by town\n",
      "        - LSTAT    % lower status of the population\n",
      "        - MEDV     Median value of owner-occupied homes in $1000's\n",
      "\n",
      "    :Missing Attribute Values: None\n",
      "\n",
      "    :Creator: Harrison, D. and Rubinfeld, D.L.\n",
      "\n",
      "This is a copy of UCI ML housing dataset.\n",
      "http://archive.ics.uci.edu/ml/datasets/Housing\n",
      "\n",
      "\n",
      "This dataset was taken from the StatLib library which is maintained at Carnegie Mellon University.\n",
      "\n",
      "The Boston house-price data of Harrison, D. and Rubinfeld, D.L. 'Hedonic\n",
      "prices and the demand for clean air', J. Environ. Economics & Management,\n",
      "vol.5, 81-102, 1978.   Used in Belsley, Kuh & Welsch, 'Regression diagnostics\n",
      "...', Wiley, 1980.   N.B. Various transformations are used in the table on\n",
      "pages 244-261 of the latter.\n",
      "\n",
      "The Boston house-price data has been used in many machine learning papers that address regression\n",
      "problems.   \n",
      "     \n",
      "**References**\n",
      "\n",
      "   - Belsley, Kuh & Welsch, 'Regression diagnostics: Identifying Influential Data and Sources of Collinearity', Wiley, 1980. 244-261.\n",
      "   - Quinlan,R. (1993). Combining Instance-Based and Model-Based Learning. In Proceedings on the Tenth International Conference of Machine Learning, 236-243, University of Massachusetts, Amherst. Morgan Kaufmann.\n",
      "   - many more! (see http://archive.ics.uci.edu/ml/datasets/Housing)\n",
      "\n"
     ]
    }
   ],
   "source": [
    "print(boston_description)"
   ]
  },
  {
   "cell_type": "code",
   "execution_count": 11,
   "metadata": {
    "ExecuteTime": {
     "end_time": "2019-02-19T17:22:10.274974Z",
     "start_time": "2019-02-19T17:22:10.256879Z"
    }
   },
   "outputs": [
    {
     "data": {
      "text/html": [
       "<div>\n",
       "<style scoped>\n",
       "    .dataframe tbody tr th:only-of-type {\n",
       "        vertical-align: middle;\n",
       "    }\n",
       "\n",
       "    .dataframe tbody tr th {\n",
       "        vertical-align: top;\n",
       "    }\n",
       "\n",
       "    .dataframe thead th {\n",
       "        text-align: right;\n",
       "    }\n",
       "</style>\n",
       "<table border=\"1\" class=\"dataframe\">\n",
       "  <thead>\n",
       "    <tr style=\"text-align: right;\">\n",
       "      <th></th>\n",
       "      <th>CRIM</th>\n",
       "      <th>ZN</th>\n",
       "      <th>INDUS</th>\n",
       "      <th>CHAS</th>\n",
       "      <th>NOX</th>\n",
       "      <th>RM</th>\n",
       "      <th>AGE</th>\n",
       "      <th>DIS</th>\n",
       "      <th>RAD</th>\n",
       "      <th>TAX</th>\n",
       "      <th>PTRATIO</th>\n",
       "      <th>B</th>\n",
       "      <th>LSTAT</th>\n",
       "      <th>MEDV</th>\n",
       "    </tr>\n",
       "  </thead>\n",
       "  <tbody>\n",
       "    <tr>\n",
       "      <td>0</td>\n",
       "      <td>0.00632</td>\n",
       "      <td>18.0</td>\n",
       "      <td>2.31</td>\n",
       "      <td>0.0</td>\n",
       "      <td>0.538</td>\n",
       "      <td>6.575</td>\n",
       "      <td>65.2</td>\n",
       "      <td>4.0900</td>\n",
       "      <td>1.0</td>\n",
       "      <td>296.0</td>\n",
       "      <td>15.3</td>\n",
       "      <td>396.90</td>\n",
       "      <td>4.98</td>\n",
       "      <td>24.0</td>\n",
       "    </tr>\n",
       "    <tr>\n",
       "      <td>1</td>\n",
       "      <td>0.02731</td>\n",
       "      <td>0.0</td>\n",
       "      <td>7.07</td>\n",
       "      <td>0.0</td>\n",
       "      <td>0.469</td>\n",
       "      <td>6.421</td>\n",
       "      <td>78.9</td>\n",
       "      <td>4.9671</td>\n",
       "      <td>2.0</td>\n",
       "      <td>242.0</td>\n",
       "      <td>17.8</td>\n",
       "      <td>396.90</td>\n",
       "      <td>9.14</td>\n",
       "      <td>21.6</td>\n",
       "    </tr>\n",
       "    <tr>\n",
       "      <td>2</td>\n",
       "      <td>0.02729</td>\n",
       "      <td>0.0</td>\n",
       "      <td>7.07</td>\n",
       "      <td>0.0</td>\n",
       "      <td>0.469</td>\n",
       "      <td>7.185</td>\n",
       "      <td>61.1</td>\n",
       "      <td>4.9671</td>\n",
       "      <td>2.0</td>\n",
       "      <td>242.0</td>\n",
       "      <td>17.8</td>\n",
       "      <td>392.83</td>\n",
       "      <td>4.03</td>\n",
       "      <td>34.7</td>\n",
       "    </tr>\n",
       "    <tr>\n",
       "      <td>3</td>\n",
       "      <td>0.03237</td>\n",
       "      <td>0.0</td>\n",
       "      <td>2.18</td>\n",
       "      <td>0.0</td>\n",
       "      <td>0.458</td>\n",
       "      <td>6.998</td>\n",
       "      <td>45.8</td>\n",
       "      <td>6.0622</td>\n",
       "      <td>3.0</td>\n",
       "      <td>222.0</td>\n",
       "      <td>18.7</td>\n",
       "      <td>394.63</td>\n",
       "      <td>2.94</td>\n",
       "      <td>33.4</td>\n",
       "    </tr>\n",
       "    <tr>\n",
       "      <td>4</td>\n",
       "      <td>0.06905</td>\n",
       "      <td>0.0</td>\n",
       "      <td>2.18</td>\n",
       "      <td>0.0</td>\n",
       "      <td>0.458</td>\n",
       "      <td>7.147</td>\n",
       "      <td>54.2</td>\n",
       "      <td>6.0622</td>\n",
       "      <td>3.0</td>\n",
       "      <td>222.0</td>\n",
       "      <td>18.7</td>\n",
       "      <td>396.90</td>\n",
       "      <td>5.33</td>\n",
       "      <td>36.2</td>\n",
       "    </tr>\n",
       "  </tbody>\n",
       "</table>\n",
       "</div>"
      ],
      "text/plain": [
       "      CRIM    ZN  INDUS  CHAS    NOX     RM   AGE     DIS  RAD    TAX  \\\n",
       "0  0.00632  18.0   2.31   0.0  0.538  6.575  65.2  4.0900  1.0  296.0   \n",
       "1  0.02731   0.0   7.07   0.0  0.469  6.421  78.9  4.9671  2.0  242.0   \n",
       "2  0.02729   0.0   7.07   0.0  0.469  7.185  61.1  4.9671  2.0  242.0   \n",
       "3  0.03237   0.0   2.18   0.0  0.458  6.998  45.8  6.0622  3.0  222.0   \n",
       "4  0.06905   0.0   2.18   0.0  0.458  7.147  54.2  6.0622  3.0  222.0   \n",
       "\n",
       "   PTRATIO       B  LSTAT  MEDV  \n",
       "0     15.3  396.90   4.98  24.0  \n",
       "1     17.8  396.90   9.14  21.6  \n",
       "2     17.8  392.83   4.03  34.7  \n",
       "3     18.7  394.63   2.94  33.4  \n",
       "4     18.7  396.90   5.33  36.2  "
      ]
     },
     "execution_count": 11,
     "metadata": {},
     "output_type": "execute_result"
    }
   ],
   "source": [
    "boston_data.head()"
   ]
  },
  {
   "cell_type": "markdown",
   "metadata": {},
   "source": [
    "### Discussion: \n",
    "\n",
    "Suppose we want to do Linear Regression on our dataset to get an estimate, based on mean squared error, of how well our model will perform on data outside our dataset. \n",
    "\n",
    "Suppose also that our data is split into three folds: Fold 1, Fold 2, and Fold 3.\n",
    "\n",
    "What would the steps be, in English, to do this?"
   ]
  },
  {
   "cell_type": "markdown",
   "metadata": {},
   "source": [
    "**Your response below**"
   ]
  },
  {
   "cell_type": "markdown",
   "metadata": {},
   "source": [
    " "
   ]
  },
  {
   "cell_type": "markdown",
   "metadata": {},
   "source": [
    "#### Coding this up\n",
    "\n",
    "The [`KFold`](http://scikit-learn.org/stable/modules/generated/sklearn.model_selection.KFold.html) object in SciKit Learn tells the cross validation object (see below) how to split up the data:"
   ]
  },
  {
   "cell_type": "code",
   "execution_count": 12,
   "metadata": {
    "ExecuteTime": {
     "end_time": "2019-02-19T17:23:05.068445Z",
     "start_time": "2019-02-19T17:23:05.064683Z"
    }
   },
   "outputs": [],
   "source": [
    "X = boston_data.drop('MEDV', axis=1)\n",
    "y = boston_data.MEDV"
   ]
  },
  {
   "cell_type": "code",
   "execution_count": 13,
   "metadata": {
    "ExecuteTime": {
     "end_time": "2019-02-19T17:23:10.538982Z",
     "start_time": "2019-02-19T17:23:10.534325Z"
    }
   },
   "outputs": [],
   "source": [
    "kf = KFold(shuffle=True, random_state=72018, n_splits=3)"
   ]
  },
  {
   "cell_type": "code",
   "execution_count": 14,
   "metadata": {
    "ExecuteTime": {
     "end_time": "2019-02-19T17:25:04.578536Z",
     "start_time": "2019-02-19T17:25:04.568959Z"
    },
    "scrolled": true
   },
   "outputs": [
    {
     "name": "stdout",
     "output_type": "stream",
     "text": [
      "Train index: [ 1  3  4  5  7  8 10 11 12 13] 337\n",
      "Test index: [ 0  2  6  9 15 17 19 23 25 26] 169\n",
      "\n",
      "Train index: [ 0  2  6  9 10 11 12 13 15 17] 337\n",
      "Test index: [ 1  3  4  5  7  8 14 16 22 27] 169\n",
      "\n",
      "Train index: [0 1 2 3 4 5 6 7 8 9] 338\n",
      "Test index: [10 11 12 13 18 20 21 24 28 31] 168\n",
      "\n"
     ]
    }
   ],
   "source": [
    "for train_index, test_index in kf.split(X):\n",
    "    print(\"Train index:\", train_index[:10], len(train_index))\n",
    "    print(\"Test index:\",test_index[:10], len(test_index))\n",
    "    print('')"
   ]
  },
  {
   "cell_type": "code",
   "execution_count": 15,
   "metadata": {
    "ExecuteTime": {
     "end_time": "2019-02-19T17:28:10.441616Z",
     "start_time": "2019-02-19T17:28:10.204857Z"
    }
   },
   "outputs": [
    {
     "data": {
      "text/plain": [
       "[0.6719348798472738, 0.7485020059212375, 0.6976807323597772]"
      ]
     },
     "execution_count": 15,
     "metadata": {},
     "output_type": "execute_result"
    }
   ],
   "source": [
    "#from sklearn.metrics import r2_score, mean_squared_error\n",
    "\n",
    "scores = []\n",
    "lr = LinearRegression()\n",
    "\n",
    "for train_index, test_index in kf.split(X):\n",
    "    X_train, X_test, y_train, y_test = (X.iloc[train_index, :], \n",
    "                                        X.iloc[test_index, :], \n",
    "                                        y[train_index], \n",
    "                                        y[test_index])\n",
    "    \n",
    "    lr.fit(X_train, y_train)\n",
    "        \n",
    "    y_pred = lr.predict(X_test)\n",
    "\n",
    "    score = r2_score(y_test.values, y_pred)\n",
    "    \n",
    "    scores.append(score)\n",
    "    \n",
    "scores"
   ]
  },
  {
   "cell_type": "markdown",
   "metadata": {},
   "source": [
    "A bit cumbersome, but do-able."
   ]
  },
  {
   "cell_type": "markdown",
   "metadata": {},
   "source": [
    "### Discussion (Part 2): \n",
    "\n",
    "Now suppose we want to do the same, but appropriately scaling our data as we go through the folds.\n",
    "\n",
    "What would the steps be _now_?"
   ]
  },
  {
   "cell_type": "markdown",
   "metadata": {},
   "source": [
    "**Your response below**"
   ]
  },
  {
   "cell_type": "markdown",
   "metadata": {},
   "source": [
    "### Coding this up"
   ]
  },
  {
   "cell_type": "code",
   "execution_count": 16,
   "metadata": {
    "ExecuteTime": {
     "end_time": "2019-02-19T17:32:07.846336Z",
     "start_time": "2019-02-19T17:32:07.808810Z"
    }
   },
   "outputs": [],
   "source": [
    "scores = []\n",
    "\n",
    "lr = LinearRegression()\n",
    "s = StandardScaler()\n",
    "\n",
    "for train_index, test_index in kf.split(X):\n",
    "    X_train, X_test, y_train, y_test = (X.iloc[train_index, :], \n",
    "                                        X.iloc[test_index, :], \n",
    "                                        y[train_index], \n",
    "                                        y[test_index])\n",
    "    \n",
    "    X_train_s = s.fit_transform(X_train)\n",
    "    \n",
    "    lr.fit(X_train_s, y_train)\n",
    "    \n",
    "    X_test_s = s.transform(X_test)\n",
    "    \n",
    "    y_pred = lr.predict(X_test_s)\n",
    "\n",
    "    score = r2_score(y_test.values, y_pred)\n",
    "    \n",
    "    scores.append(score)"
   ]
  },
  {
   "cell_type": "code",
   "execution_count": 17,
   "metadata": {
    "ExecuteTime": {
     "end_time": "2019-02-19T17:32:09.978972Z",
     "start_time": "2019-02-19T17:32:09.974341Z"
    }
   },
   "outputs": [
    {
     "data": {
      "text/plain": [
       "[0.6719348798472715, 0.748502005921238, 0.6976807323597742]"
      ]
     },
     "execution_count": 17,
     "metadata": {},
     "output_type": "execute_result"
    }
   ],
   "source": [
    "scores"
   ]
  },
  {
   "cell_type": "markdown",
   "metadata": {},
   "source": [
    "(same scores, because for vanilla linear regression with no regularization, scaling actually doesn't matter for performance)"
   ]
  },
  {
   "cell_type": "markdown",
   "metadata": {},
   "source": [
    "This is getting quite cumbersome! \n",
    "\n",
    "_Very_ luckily, SciKit Learn has some wonderful functions that handle a lot of this for us."
   ]
  },
  {
   "cell_type": "markdown",
   "metadata": {},
   "source": [
    "### `Pipeline` and `cross_val_predict`"
   ]
  },
  {
   "cell_type": "markdown",
   "metadata": {},
   "source": [
    "`Pipeline` lets you chain together multiple operators on your data that both have a `fit` method."
   ]
  },
  {
   "cell_type": "code",
   "execution_count": 18,
   "metadata": {
    "ExecuteTime": {
     "end_time": "2019-02-19T17:33:28.695381Z",
     "start_time": "2019-02-19T17:33:28.691865Z"
    }
   },
   "outputs": [],
   "source": [
    "s = StandardScaler()\n",
    "lr = LinearRegression()"
   ]
  },
  {
   "cell_type": "markdown",
   "metadata": {},
   "source": [
    "### Combine multiple processing steps into a `Pipeline`\n",
    "\n",
    "A pipeline contains a series of steps, where a step is (\"name of step\", actual_model). The \"name of step\" string is only used to help you identify which step you are on, and to allow you to specify parameters at that step.  "
   ]
  },
  {
   "cell_type": "code",
   "execution_count": 19,
   "metadata": {
    "ExecuteTime": {
     "end_time": "2019-02-19T17:33:32.657281Z",
     "start_time": "2019-02-19T17:33:32.653852Z"
    }
   },
   "outputs": [],
   "source": [
    "estimator = Pipeline([(\"scaler\", s),\n",
    "                      (\"regression\", lr)])"
   ]
  },
  {
   "cell_type": "markdown",
   "metadata": {},
   "source": [
    "### `cross_val_predict`\n",
    "\n",
    "[`cross_val_predict`](http://scikit-learn.org/stable/modules/generated/sklearn.model_selection.cross_val_predict.html) is a function that does K-fold cross validation for us, appropriately fitting and transforming at every step of the way."
   ]
  },
  {
   "cell_type": "code",
   "execution_count": 20,
   "metadata": {},
   "outputs": [
    {
     "data": {
      "text/plain": [
       "KFold(n_splits=3, random_state=72018, shuffle=True)"
      ]
     },
     "execution_count": 20,
     "metadata": {},
     "output_type": "execute_result"
    }
   ],
   "source": [
    "kf"
   ]
  },
  {
   "cell_type": "code",
   "execution_count": 21,
   "metadata": {
    "ExecuteTime": {
     "end_time": "2019-02-19T17:35:55.255356Z",
     "start_time": "2019-02-19T17:35:55.240376Z"
    }
   },
   "outputs": [],
   "source": [
    "predictions = cross_val_predict(estimator, X, y, cv=kf)"
   ]
  },
  {
   "cell_type": "code",
   "execution_count": 22,
   "metadata": {
    "ExecuteTime": {
     "end_time": "2019-02-19T17:36:03.801732Z",
     "start_time": "2019-02-19T17:36:03.796646Z"
    },
    "scrolled": true
   },
   "outputs": [
    {
     "data": {
      "text/plain": [
       "0.7063531064161559"
      ]
     },
     "execution_count": 22,
     "metadata": {},
     "output_type": "execute_result"
    }
   ],
   "source": [
    "r2_score(y, predictions)"
   ]
  },
  {
   "cell_type": "code",
   "execution_count": 23,
   "metadata": {
    "ExecuteTime": {
     "end_time": "2019-02-19T17:36:19.831481Z",
     "start_time": "2019-02-19T17:36:19.827131Z"
    }
   },
   "outputs": [
    {
     "data": {
      "text/plain": [
       "0.7060392060427612"
      ]
     },
     "execution_count": 23,
     "metadata": {},
     "output_type": "execute_result"
    }
   ],
   "source": [
    "np.mean(scores) # almost identical!"
   ]
  },
  {
   "cell_type": "markdown",
   "metadata": {},
   "source": [
    "Note that `cross_val_predict` doesn't use the same model for all steps; the predictions for each row are made when that row is in the validation set. We really have the collected results of 3 (i.e. `kf.num_splits`) different models. \n",
    "\n",
    "When we are done, `estimator` is still not fitted. If we want to predict on _new_ data, we still have to train our `estimator`. "
   ]
  },
  {
   "cell_type": "markdown",
   "metadata": {},
   "source": [
    "## Hyperparameter tuning"
   ]
  },
  {
   "cell_type": "markdown",
   "metadata": {},
   "source": [
    "### Definition\n",
    "\n",
    "**Hyperparameter tuning** involves using cross validation (or train-test split) to determine which hyperparameters are most likely to generate a model that _generalizes_ well outside of your sample.\n",
    "\n",
    "### Mechanics\n",
    "\n",
    "We can generate an exponentially spaces range of values using the numpy [`geomspace`](https://docs.scipy.org/doc/numpy/reference/generated/numpy.geomspace.html#numpy.geomspace) function.\n",
    "\n",
    "```python\n",
    "np.geomspace(1, 1000, num=4)\n",
    "```\n",
    "\n",
    "produces:\n",
    "\n",
    "```\n",
    "array([    1.,    10.,   100.,  1000.])\n",
    "```\n",
    "\n",
    "Use this function to generate a list of length 10 called `alphas` for hyperparameter tuning:"
   ]
  },
  {
   "cell_type": "code",
   "execution_count": 24,
   "metadata": {
    "ExecuteTime": {
     "end_time": "2019-02-19T17:40:36.220744Z",
     "start_time": "2019-02-19T17:40:36.214714Z"
    }
   },
   "outputs": [
    {
     "data": {
      "text/plain": [
       "array([1.e-09, 1.e-08, 1.e-07, 1.e-06, 1.e-05, 1.e-04, 1.e-03, 1.e-02,\n",
       "       1.e-01, 1.e+00])"
      ]
     },
     "execution_count": 24,
     "metadata": {},
     "output_type": "execute_result"
    }
   ],
   "source": [
    "alphas = np.geomspace(1e-9, 1e0, num=10)\n",
    "alphas"
   ]
  },
  {
   "cell_type": "markdown",
   "metadata": {},
   "source": [
    "The code below tunes the `alpha` hyperparameter for Lasso regression."
   ]
  },
  {
   "cell_type": "code",
   "execution_count": 25,
   "metadata": {
    "ExecuteTime": {
     "end_time": "2019-02-19T17:47:34.947390Z",
     "start_time": "2019-02-19T17:47:34.845011Z"
    }
   },
   "outputs": [],
   "source": [
    "scores = []\n",
    "coefs = []\n",
    "for alpha in alphas:\n",
    "    las = Lasso(alpha=alpha, max_iter=100000)\n",
    "    \n",
    "    estimator = Pipeline([\n",
    "        (\"scaler\", s),\n",
    "        (\"lasso_regression\", las)])\n",
    "\n",
    "    predictions = cross_val_predict(estimator, X, y, cv = kf)\n",
    "    \n",
    "    score = r2_score(y, predictions)\n",
    "    \n",
    "    scores.append(score)"
   ]
  },
  {
   "cell_type": "code",
   "execution_count": 26,
   "metadata": {
    "ExecuteTime": {
     "end_time": "2019-02-19T17:47:35.397285Z",
     "start_time": "2019-02-19T17:47:35.390917Z"
    }
   },
   "outputs": [
    {
     "data": {
      "text/plain": [
       "[(1e-09, 0.7063531064981925),\n",
       " (1e-08, 0.7063531072356071),\n",
       " (1e-07, 0.7063531145602442),\n",
       " (1e-06, 0.7063531882052064),\n",
       " (1e-05, 0.7063539165191507),\n",
       " (0.0001, 0.706361268093463),\n",
       " (0.001, 0.706433467041546),\n",
       " (0.01, 0.7070865958083233),\n",
       " (0.1, 0.705838151167185),\n",
       " (1.0, 0.6512724532884887)]"
      ]
     },
     "execution_count": 26,
     "metadata": {},
     "output_type": "execute_result"
    }
   ],
   "source": [
    "list(zip(alphas,scores))"
   ]
  },
  {
   "cell_type": "code",
   "execution_count": null,
   "metadata": {},
   "outputs": [],
   "source": [
    "#How alpha impacts model complexity"
   ]
  },
  {
   "cell_type": "code",
   "execution_count": 27,
   "metadata": {
    "ExecuteTime": {
     "end_time": "2019-02-19T17:48:16.943881Z",
     "start_time": "2019-02-19T17:48:16.937741Z"
    }
   },
   "outputs": [
    {
     "data": {
      "text/plain": [
       "array([-1.07170372e-01,  4.63952623e-02,  2.08588308e-02,  2.68854318e+00,\n",
       "       -1.77954207e+01,  3.80475296e+00,  7.50802707e-04, -1.47575348e+00,\n",
       "        3.05654279e-01, -1.23293755e-02, -9.53459908e-01,  9.39253013e-03,\n",
       "       -5.25467196e-01])"
      ]
     },
     "execution_count": 27,
     "metadata": {},
     "output_type": "execute_result"
    }
   ],
   "source": [
    "Lasso(alpha=1e-6).fit(X, y).coef_"
   ]
  },
  {
   "cell_type": "code",
   "execution_count": 28,
   "metadata": {
    "ExecuteTime": {
     "end_time": "2019-02-19T17:48:40.778026Z",
     "start_time": "2019-02-19T17:48:40.771732Z"
    }
   },
   "outputs": [
    {
     "data": {
      "text/plain": [
       "array([-0.06342255,  0.04916867, -0.        ,  0.        , -0.        ,\n",
       "        0.94678567,  0.02092737, -0.66900864,  0.26417501, -0.01520915,\n",
       "       -0.72319901,  0.00829117, -0.76143296])"
      ]
     },
     "execution_count": 28,
     "metadata": {},
     "output_type": "execute_result"
    }
   ],
   "source": [
    "Lasso(alpha=1.0).fit(X, y).coef_"
   ]
  },
  {
   "cell_type": "code",
   "execution_count": 29,
   "metadata": {
    "ExecuteTime": {
     "end_time": "2019-02-19T17:46:03.208768Z",
     "start_time": "2019-02-19T17:46:02.898338Z"
    }
   },
   "outputs": [
    {
     "data": {
      "image/png": "[encoded data removed]",
      "text/plain": [
       "<Figure size 720x432 with 1 Axes>"
      ]
     },
     "metadata": {
      "needs_background": "light"
     },
     "output_type": "display_data"
    }
   ],
   "source": [
    "plt.figure(figsize=(10,6))\n",
    "plt.semilogx(alphas, scores, '-o')\n",
    "plt.xlabel('$\\\\alpha$')\n",
    "plt.ylabel('$R^2$');"
   ]
  },
  {
   "cell_type": "markdown",
   "metadata": {},
   "source": [
    "### Exercise\n",
    "\n",
    "Add `PolynomialFeatures` to this `Pipeline`, and re-run the cross validation with the `PolynomialFeatures` added.\n",
    "\n",
    "**Hint #1:** pipelines process input from first to last. Think about the order that it would make sense to add Polynomial Features to the data in sequence and add them in the appropriate place in the pipeline.\n",
    "\n",
    "**Hint #2:** you should see a significant increase in cross validation accuracy from doing this"
   ]
  },
  {
   "cell_type": "code",
   "execution_count": 38,
   "metadata": {
    "ExecuteTime": {
     "end_time": "2019-02-19T17:56:02.883875Z",
     "start_time": "2019-02-19T17:56:00.477593Z"
    }
   },
   "outputs": [],
   "source": [
    "pf = PolynomialFeatures(degree=3)\n",
    "\n",
    "scores = []\n",
    "alphas = np.geomspace(0.06, 6.0, 30)\n",
    "for alpha in alphas:\n",
    "    # Gradiant Descend --> max_iter\n",
    "    las = Lasso(alpha=alpha, max_iter=100000)\n",
    "    \n",
    "    estimator = Pipeline([\n",
    "        #Order of steps in Pipeline matters. Scaler vs higher degree\n",
    "        (\"scaler\", s),\n",
    "        (\"make_higher_degree\", pf),\n",
    "        (\"lasso_regression\", las)])\n",
    "\n",
    "    predictions = cross_val_predict(estimator, X, y, cv = kf)\n",
    "    \n",
    "    score = r2_score(y, predictions)\n",
    "    \n",
    "    scores.append(score)\n",
    "    "
   ]
  },
  {
   "cell_type": "markdown",
   "metadata": {},
   "source": [
    "If you store the results in a list called `scores`, the following will work:"
   ]
  },
  {
   "cell_type": "code",
   "execution_count": 39,
   "metadata": {},
   "outputs": [
    {
     "data": {
      "text/plain": [
       "array([0.06      , 0.07032614, 0.08242943, 0.09661572, 0.11324351,\n",
       "       0.13273298, 0.15557663, 0.18235172, 0.21373487, 0.25051914,\n",
       "       0.29363406, 0.34416915, 0.40340145, 0.47282777, 0.55420251,\n",
       "       0.64958204, 0.7613766 , 0.89241126, 1.04599729, 1.22601583,\n",
       "       1.43701597, 1.68432972, 1.97420674, 2.31397225, 2.71221219,\n",
       "       3.17899014, 3.72610165, 4.36737231, 5.11900711, 6.        ])"
      ]
     },
     "execution_count": 39,
     "metadata": {},
     "output_type": "execute_result"
    }
   ],
   "source": [
    "alphas"
   ]
  },
  {
   "cell_type": "code",
   "execution_count": 40,
   "metadata": {},
   "outputs": [
    {
     "data": {
      "text/plain": [
       "[0.8109754662476157,\n",
       " 0.819625435362675,\n",
       " 0.8238815180190697,\n",
       " 0.8232595550071852,\n",
       " 0.8176938565909885,\n",
       " 0.8116658412071378,\n",
       " 0.8049753288839404,\n",
       " 0.7986063409004256,\n",
       " 0.7918756359769059,\n",
       " 0.7851025942267393,\n",
       " 0.7795223514021845,\n",
       " 0.7747461325594825,\n",
       " 0.7706653982336087,\n",
       " 0.7682244150812351,\n",
       " 0.7703612411240339,\n",
       " 0.7650921464842818,\n",
       " 0.7556089078414593,\n",
       " 0.7434482688426003,\n",
       " 0.7280746680688994,\n",
       " 0.711111710814418,\n",
       " 0.6926629571663604,\n",
       " 0.6776772518209337,\n",
       " 0.658187812594407,\n",
       " 0.6291872703750732,\n",
       " 0.5963354162670711,\n",
       " 0.5548175028208238,\n",
       " 0.5015220365935065,\n",
       " 0.4411810796971354,\n",
       " 0.4021239070194632,\n",
       " 0.3800935078061405]"
      ]
     },
     "execution_count": 40,
     "metadata": {},
     "output_type": "execute_result"
    }
   ],
   "source": [
    "scores"
   ]
  },
  {
   "cell_type": "code",
   "execution_count": 41,
   "metadata": {
    "ExecuteTime": {
     "end_time": "2019-02-19T17:56:05.154628Z",
     "start_time": "2019-02-19T17:56:04.987932Z"
    }
   },
   "outputs": [
    {
     "data": {
      "image/png": "[encoded data removed]",
      "text/plain": [
       "<Figure size 432x288 with 1 Axes>"
      ]
     },
     "metadata": {
      "needs_background": "light"
     },
     "output_type": "display_data"
    }
   ],
   "source": [
    "plt.semilogx(alphas, scores);"
   ]
  },
  {
   "cell_type": "code",
   "execution_count": 42,
   "metadata": {
    "ExecuteTime": {
     "end_time": "2019-02-19T17:56:40.051147Z",
     "start_time": "2019-02-19T17:56:40.009641Z"
    }
   },
   "outputs": [
    {
     "data": {
      "text/plain": [
       "0.913477773519652"
      ]
     },
     "execution_count": 42,
     "metadata": {},
     "output_type": "execute_result"
    }
   ],
   "source": [
    "# Once we have found the hyperparameter (alpha~1e-2=0.01)\n",
    "# make the model and train it on ALL the data\n",
    "# Then release it into the wild .....\n",
    "best_estimator = Pipeline([\n",
    "                    (\"scaler\", s),\n",
    "                    (\"make_higher_degree\", PolynomialFeatures(degree=2)),\n",
    "                    (\"lasso_regression\", Lasso(alpha=0.03))])\n",
    "\n",
    "best_estimator.fit(X, y)\n",
    "best_estimator.score(X, y)"
   ]
  },
  {
   "cell_type": "code",
   "execution_count": 43,
   "metadata": {
    "ExecuteTime": {
     "end_time": "2019-02-19T17:56:51.526585Z",
     "start_time": "2019-02-19T17:56:51.521094Z"
    }
   },
   "outputs": [
    {
     "data": {
      "text/plain": [
       "array([ 0.00000000e+00, -0.00000000e+00, -0.00000000e+00, -0.00000000e+00,\n",
       "        0.00000000e+00, -1.00309168e+00,  3.32679107e+00, -1.01840878e+00,\n",
       "       -2.56161421e+00,  1.12778302e+00, -1.72266155e+00, -5.37088506e-01,\n",
       "        4.39555878e-01, -3.39542586e+00,  7.22387712e-02,  0.00000000e+00,\n",
       "        0.00000000e+00,  3.53653554e+00, -0.00000000e+00,  3.72285440e-01,\n",
       "        0.00000000e+00,  0.00000000e+00, -5.49528703e-01, -0.00000000e+00,\n",
       "       -0.00000000e+00, -4.05522485e-02,  2.25864611e-01,  1.78508858e-01,\n",
       "        0.00000000e+00,  0.00000000e+00,  0.00000000e+00,  6.50874606e-02,\n",
       "       -0.00000000e+00, -2.07295802e-01, -0.00000000e+00,  3.71781995e-01,\n",
       "        0.00000000e+00, -0.00000000e+00, -5.89531100e-02,  3.47180625e-01,\n",
       "        0.00000000e+00,  9.23666274e-01,  3.48873365e-01,  7.29463442e-02,\n",
       "        0.00000000e+00,  0.00000000e+00,  7.68485586e-02, -7.21083596e-01,\n",
       "        0.00000000e+00, -5.98542558e-01,  4.18420677e-01, -7.98165728e-01,\n",
       "       -7.25062683e-01,  2.34818861e-01, -0.00000000e+00, -0.00000000e+00,\n",
       "        0.00000000e+00, -1.68164447e-02,  0.00000000e+00, -4.04477826e-01,\n",
       "       -4.22989874e-01, -4.06983988e-01, -3.75443720e-01,  4.17684564e-01,\n",
       "       -8.91841193e-01,  0.00000000e+00, -2.69309481e-01,  0.00000000e+00,\n",
       "        1.02286785e-01,  2.02570379e-01, -6.88345376e-01, -0.00000000e+00,\n",
       "       -1.08598703e+00, -3.98751731e-01, -9.37684760e-01, -1.17343147e-01,\n",
       "       -7.37427594e-01,  0.00000000e+00,  0.00000000e+00,  1.36340670e+00,\n",
       "       -0.00000000e+00, -2.94691228e-03, -8.98125013e-01, -8.68198373e-01,\n",
       "        8.03396788e-01, -1.91683803e-01, -1.14706070e-01,  0.00000000e+00,\n",
       "       -0.00000000e+00,  5.83161589e-01, -0.00000000e+00,  5.81365491e-02,\n",
       "        0.00000000e+00, -2.32896159e-01, -1.12440837e+00,  0.00000000e+00,\n",
       "        1.96286997e+00, -0.00000000e+00, -1.00915801e+00, -7.04656486e-02,\n",
       "       -1.06456357e-02, -4.78389591e-02, -3.97645601e-01, -3.84121840e-01,\n",
       "        9.97402419e-01])"
      ]
     },
     "execution_count": 43,
     "metadata": {},
     "output_type": "execute_result"
    }
   ],
   "source": [
    "best_estimator.named_steps[\"lasso_regression\"].coef_"
   ]
  },
  {
   "cell_type": "markdown",
   "metadata": {},
   "source": [
    "### Exercise\n",
    "\n",
    "Do the same, but with `Ridge` regression \n",
    "\n",
    "Which model, `Ridge` or `Lasso`, performs best with its optimal hyperparameters on the Boston dataset?"
   ]
  },
  {
   "cell_type": "code",
   "execution_count": 44,
   "metadata": {},
   "outputs": [],
   "source": [
    "#Both Ridge and Lasso are REDUCING complexity of vanilla Linear Regression\n",
    "#Gradient Descent"
   ]
  },
  {
   "cell_type": "code",
   "execution_count": 46,
   "metadata": {
    "ExecuteTime": {
     "end_time": "2019-02-19T17:59:17.634414Z",
     "start_time": "2019-02-19T17:59:17.238684Z"
    }
   },
   "outputs": [
    {
     "data": {
      "text/plain": [
       "[<matplotlib.lines.Line2D at 0x25cd3c5fa08>]"
      ]
     },
     "execution_count": 46,
     "metadata": {},
     "output_type": "execute_result"
    },
    {
     "data": {
      "image/png": "[encoded data removed]",
      "text/plain": [
       "<Figure size 432x288 with 1 Axes>"
      ]
     },
     "metadata": {
      "needs_background": "light"
     },
     "output_type": "display_data"
    }
   ],
   "source": [
    "pf = PolynomialFeatures(degree=2)\n",
    "alphas = np.geomspace(4, 20, 20)\n",
    "scores=[]\n",
    "for alpha in alphas:\n",
    "    ridge = Ridge(alpha=alpha, max_iter=100000)\n",
    "\n",
    "    estimator = Pipeline([\n",
    "        (\"scaler\", s),\n",
    "        (\"polynomial_features\", pf),\n",
    "        (\"ridge_regression\", ridge)])\n",
    "\n",
    "    predictions = cross_val_predict(estimator, X, y, cv = kf)\n",
    "    score = r2_score(y, predictions)\n",
    "    scores.append(score)\n",
    "\n",
    "plt.plot(alphas, scores)"
   ]
  },
  {
   "cell_type": "markdown",
   "metadata": {},
   "source": [
    "**Conclusion:** Both Lasso and Ridge with proper hyperparameter tuning give better results than plain ol' Linear Regression!"
   ]
  },
  {
   "cell_type": "code",
   "execution_count": 52,
   "metadata": {},
   "outputs": [],
   "source": [
    "# FEATURE IMPORTANCE for Lasso with alpha=0.3"
   ]
  },
  {
   "cell_type": "markdown",
   "metadata": {},
   "source": [
    "### Exercise:"
   ]
  },
  {
   "cell_type": "markdown",
   "metadata": {},
   "source": [
    "Now, for whatever your best overall hyperparameter was: \n",
    "\n",
    "* Standardize the data\n",
    "* Fit and predict on the entire dataset\n",
    "* See what the largest coefficients were\n",
    "    * Hint: use \n",
    "    ```python\n",
    "    dict(zip(model.coef_, pf.get_feature_names()))\n",
    "    ```\n",
    "    for your model `model` to get the feature names from `PolynomialFeatures`.\n",
    "    \n",
    "    Then, use\n",
    "    ```python\n",
    "    dict(zip(list(range(len(X.columns.values))), X.columns.values))\n",
    "    ```\n",
    "    \n",
    "    to see which features in the `PolynomialFeatures` DataFrame correspond to which columns in the original DataFrame.\n"
   ]
  },
  {
   "cell_type": "code",
   "execution_count": 47,
   "metadata": {
    "ExecuteTime": {
     "end_time": "2019-02-19T17:56:40.051147Z",
     "start_time": "2019-02-19T17:56:40.009641Z"
    }
   },
   "outputs": [
    {
     "data": {
      "text/plain": [
       "0.913477773519652"
      ]
     },
     "execution_count": 47,
     "metadata": {},
     "output_type": "execute_result"
    }
   ],
   "source": [
    "# Once we have found the hyperparameter (alpha~1e-2=0.01)\n",
    "# make the model and train it on ALL the data\n",
    "# Then release it into the wild .....\n",
    "best_estimator = Pipeline([\n",
    "                    (\"scaler\", s),\n",
    "                    (\"make_higher_degree\", PolynomialFeatures(degree=2)),\n",
    "                    (\"lasso_regression\", Lasso(alpha=0.03))])\n",
    "\n",
    "best_estimator.fit(X, y)\n",
    "best_estimator.score(X, y)"
   ]
  },
  {
   "cell_type": "code",
   "execution_count": 48,
   "metadata": {
    "ExecuteTime": {
     "end_time": "2019-02-19T17:56:51.526585Z",
     "start_time": "2019-02-19T17:56:51.521094Z"
    }
   },
   "outputs": [],
   "source": [
    "df_importances = pd.DataFrame(zip(best_estimator.named_steps[\"make_higher_degree\"].get_feature_names(),\n",
    "                 best_estimator.named_steps[\"lasso_regression\"].coef_,\n",
    "))"
   ]
  },
  {
   "cell_type": "code",
   "execution_count": 49,
   "metadata": {},
   "outputs": [],
   "source": [
    "col_names_dict = dict(zip(list(range(len(X.columns.values))), X.columns.values))"
   ]
  },
  {
   "cell_type": "code",
   "execution_count": 50,
   "metadata": {},
   "outputs": [
    {
     "data": {
      "text/plain": [
       "{0: 'CRIM',\n",
       " 1: 'ZN',\n",
       " 2: 'INDUS',\n",
       " 3: 'CHAS',\n",
       " 4: 'NOX',\n",
       " 5: 'RM',\n",
       " 6: 'AGE',\n",
       " 7: 'DIS',\n",
       " 8: 'RAD',\n",
       " 9: 'TAX',\n",
       " 10: 'PTRATIO',\n",
       " 11: 'B',\n",
       " 12: 'LSTAT'}"
      ]
     },
     "execution_count": 50,
     "metadata": {},
     "output_type": "execute_result"
    }
   ],
   "source": [
    "col_names_dict"
   ]
  },
  {
   "cell_type": "code",
   "execution_count": 51,
   "metadata": {},
   "outputs": [
    {
     "data": {
      "text/html": [
       "<div>\n",
       "<style scoped>\n",
       "    .dataframe tbody tr th:only-of-type {\n",
       "        vertical-align: middle;\n",
       "    }\n",
       "\n",
       "    .dataframe tbody tr th {\n",
       "        vertical-align: top;\n",
       "    }\n",
       "\n",
       "    .dataframe thead th {\n",
       "        text-align: right;\n",
       "    }\n",
       "</style>\n",
       "<table border=\"1\" class=\"dataframe\">\n",
       "  <thead>\n",
       "    <tr style=\"text-align: right;\">\n",
       "      <th></th>\n",
       "      <th>0</th>\n",
       "      <th>1</th>\n",
       "    </tr>\n",
       "  </thead>\n",
       "  <tbody>\n",
       "    <tr>\n",
       "      <td>13</td>\n",
       "      <td>x12</td>\n",
       "      <td>-3.395426</td>\n",
       "    </tr>\n",
       "    <tr>\n",
       "      <td>8</td>\n",
       "      <td>x7</td>\n",
       "      <td>-2.561614</td>\n",
       "    </tr>\n",
       "    <tr>\n",
       "      <td>10</td>\n",
       "      <td>x9</td>\n",
       "      <td>-1.722662</td>\n",
       "    </tr>\n",
       "    <tr>\n",
       "      <td>94</td>\n",
       "      <td>x8 x12</td>\n",
       "      <td>-1.124408</td>\n",
       "    </tr>\n",
       "    <tr>\n",
       "      <td>72</td>\n",
       "      <td>x5 x8</td>\n",
       "      <td>-1.085987</td>\n",
       "    </tr>\n",
       "    <tr>\n",
       "      <td>...</td>\n",
       "      <td>...</td>\n",
       "      <td>...</td>\n",
       "    </tr>\n",
       "    <tr>\n",
       "      <td>9</td>\n",
       "      <td>x8</td>\n",
       "      <td>1.127783</td>\n",
       "    </tr>\n",
       "    <tr>\n",
       "      <td>79</td>\n",
       "      <td>x6 x8</td>\n",
       "      <td>1.363407</td>\n",
       "    </tr>\n",
       "    <tr>\n",
       "      <td>96</td>\n",
       "      <td>x9 x10</td>\n",
       "      <td>1.962870</td>\n",
       "    </tr>\n",
       "    <tr>\n",
       "      <td>6</td>\n",
       "      <td>x5</td>\n",
       "      <td>3.326791</td>\n",
       "    </tr>\n",
       "    <tr>\n",
       "      <td>17</td>\n",
       "      <td>x0 x3</td>\n",
       "      <td>3.536536</td>\n",
       "    </tr>\n",
       "  </tbody>\n",
       "</table>\n",
       "<p>105 rows × 2 columns</p>\n",
       "</div>"
      ],
      "text/plain": [
       "         0         1\n",
       "13     x12 -3.395426\n",
       "8       x7 -2.561614\n",
       "10      x9 -1.722662\n",
       "94  x8 x12 -1.124408\n",
       "72   x5 x8 -1.085987\n",
       "..     ...       ...\n",
       "9       x8  1.127783\n",
       "79   x6 x8  1.363407\n",
       "96  x9 x10  1.962870\n",
       "6       x5  3.326791\n",
       "17   x0 x3  3.536536\n",
       "\n",
       "[105 rows x 2 columns]"
      ]
     },
     "execution_count": 51,
     "metadata": {},
     "output_type": "execute_result"
    }
   ],
   "source": [
    "df_importances.sort_values(by=1)"
   ]
  },
  {
   "cell_type": "markdown",
   "metadata": {},
   "source": [
    "## Grid Search CV"
   ]
  },
  {
   "cell_type": "markdown",
   "metadata": {},
   "source": [
    "To do cross-validation, we used two techniques:\n",
    "- use `KFolds` and manually create a loop to do cross-validation\n",
    "- use `cross_val_predict` and `score` to get a cross-valiated score in a couple of lines.\n",
    "\n",
    "To do hyper-parameter tuning, we see a general pattern:\n",
    "- use `cross_val_predict` and `score` in a manually written loop over hyperparemeters, then select the best one.\n",
    "\n",
    "Perhaps not surprisingly, there is a function that does this for us -- `GridSearchCV`"
   ]
  },
  {
   "cell_type": "code",
   "execution_count": 53,
   "metadata": {
    "ExecuteTime": {
     "end_time": "2019-02-19T18:02:31.945804Z",
     "start_time": "2019-02-19T18:02:31.938416Z"
    }
   },
   "outputs": [],
   "source": [
    "from sklearn.model_selection import GridSearchCV\n",
    "\n",
    "# Same estimator as before\n",
    "estimator = Pipeline([(\"scaler\", StandardScaler()),\n",
    "        (\"polynomial_features\", PolynomialFeatures()),\n",
    "        (\"ridge_regression\", Ridge())])\n",
    "\n",
    "hparams = {\n",
    "    'polynomial_features__degree': [1, 2, 3],\n",
    "    'ridge_regression__alpha': np.geomspace(4, 20, 30)\n",
    "}\n",
    "\n",
    "grid = GridSearchCV(estimator, hparams, cv=kf)"
   ]
  },
  {
   "cell_type": "code",
   "execution_count": 55,
   "metadata": {
    "ExecuteTime": {
     "end_time": "2019-02-19T18:02:49.319148Z",
     "start_time": "2019-02-19T18:02:46.093880Z"
    }
   },
   "outputs": [
    {
     "name": "stderr",
     "output_type": "stream",
     "text": [
      "C:\\ProgramData\\Anaconda3\\lib\\site-packages\\sklearn\\model_selection\\_search.py:814: DeprecationWarning: The default of the `iid` parameter will change from True to False in version 0.22 and will be removed in 0.24. This will change numeric results when test-set sizes are unequal.\n",
      "  DeprecationWarning)\n"
     ]
    },
    {
     "data": {
      "text/plain": [
       "GridSearchCV(cv=KFold(n_splits=3, random_state=72018, shuffle=True),\n",
       "             error_score='raise-deprecating',\n",
       "             estimator=Pipeline(memory=None,\n",
       "                                steps=[('scaler',\n",
       "                                        StandardScaler(copy=True,\n",
       "                                                       with_mean=True,\n",
       "                                                       with_std=True)),\n",
       "                                       ('polynomial_features',\n",
       "                                        PolynomialFeatures(degree=2,\n",
       "                                                           include_bias=True,\n",
       "                                                           interaction_only=False,\n",
       "                                                           order='C')),\n",
       "                                       ('ridge_regression',\n",
       "                                        Ridge(alpha=1.0, copy_X=T...\n",
       "        5.27924796,  5.58051751,  5.89897953,  6.23561514,  6.59146146,\n",
       "        6.96761476,  7.36523392,  7.78554391,  8.22983963,  8.69948987,\n",
       "        9.19594151,  9.72072404, 10.27545421, 10.86184103, 11.48169104,\n",
       "       12.13691388, 12.82952815, 13.56166768, 14.33558803, 15.15367351,\n",
       "       16.01844446, 16.93256509, 17.89885162, 18.92028098, 20.        ])},\n",
       "             pre_dispatch='2*n_jobs', refit=True, return_train_score=False,\n",
       "             scoring=None, verbose=0)"
      ]
     },
     "execution_count": 55,
     "metadata": {},
     "output_type": "execute_result"
    }
   ],
   "source": [
    "grid.fit(X, y)"
   ]
  },
  {
   "cell_type": "code",
   "execution_count": 56,
   "metadata": {
    "ExecuteTime": {
     "end_time": "2019-02-19T18:03:07.016198Z",
     "start_time": "2019-02-19T18:03:07.010215Z"
    }
   },
   "outputs": [
    {
     "data": {
      "text/plain": [
       "(0.8504975378207537,\n",
       " {'polynomial_features__degree': 2,\n",
       "  'ridge_regression__alpha': 15.153673507519274})"
      ]
     },
     "execution_count": 56,
     "metadata": {},
     "output_type": "execute_result"
    }
   ],
   "source": [
    "grid.best_score_, grid.best_params_"
   ]
  },
  {
   "cell_type": "code",
   "execution_count": 57,
   "metadata": {
    "ExecuteTime": {
     "end_time": "2019-02-19T18:03:31.735568Z",
     "start_time": "2019-02-19T18:03:31.728658Z"
    }
   },
   "outputs": [],
   "source": [
    "y_predict = grid.predict(X)"
   ]
  },
  {
   "cell_type": "code",
   "execution_count": 58,
   "metadata": {
    "ExecuteTime": {
     "end_time": "2019-02-19T18:04:17.838943Z",
     "start_time": "2019-02-19T18:04:17.832872Z"
    }
   },
   "outputs": [
    {
     "data": {
      "text/plain": [
       "0.9149145594213683"
      ]
     },
     "execution_count": 58,
     "metadata": {},
     "output_type": "execute_result"
    }
   ],
   "source": [
    "# This includes both in-sample and out-of-sample\n",
    "r2_score(y, y_predict)"
   ]
  },
  {
   "cell_type": "code",
   "execution_count": 59,
   "metadata": {
    "ExecuteTime": {
     "end_time": "2019-02-19T18:04:27.088854Z",
     "start_time": "2019-02-19T18:04:27.082915Z"
    }
   },
   "outputs": [
    {
     "data": {
      "text/plain": [
       "array([ 0.00000000e+00, -1.27346408e-01, -6.16205046e-03,  2.36135244e-02,\n",
       "        1.00398027e-01, -9.74110586e-01,  3.26236441e+00, -9.65057238e-01,\n",
       "       -1.96344725e+00,  8.56769182e-01, -1.01488960e+00, -7.06985966e-01,\n",
       "        5.52029222e-01, -3.03254502e+00,  7.74127927e-02,  7.24276605e-02,\n",
       "        6.82776638e-02,  1.72849044e+00, -4.80758341e-01,  5.76219972e-01,\n",
       "        1.28132069e-01,  2.22931335e-01, -7.45243542e-01,  1.66582495e-01,\n",
       "       -8.00025634e-02, -8.54571642e-02,  5.07490801e-01,  2.14820391e-01,\n",
       "       -1.48833274e-01,  1.42098626e-01,  1.93770221e-01,  5.02304885e-02,\n",
       "       -1.12667821e-01, -2.77559685e-01, -1.32870713e-01,  7.32239658e-01,\n",
       "        5.26857333e-02,  8.89966580e-02, -2.72228558e-01,  5.84383917e-01,\n",
       "        1.06306947e-01,  9.62971619e-01,  5.76845132e-01,  5.33378179e-01,\n",
       "        7.07913980e-01, -6.21760626e-02,  7.57641545e-02, -4.28157866e-01,\n",
       "        2.40651011e-01, -6.82201736e-01,  3.40931549e-01, -9.62217889e-01,\n",
       "       -8.14997204e-01,  2.81353294e-01,  5.50023518e-02,  8.65917517e-02,\n",
       "        6.28285056e-01, -1.40764851e-01, -1.03645734e-01, -3.81965497e-01,\n",
       "       -4.48817407e-01, -4.46562934e-01, -4.97293983e-01,  7.52862844e-01,\n",
       "       -8.00745322e-01,  7.86779267e-02, -5.78298566e-01, -4.98398516e-02,\n",
       "        5.37001246e-01,  2.24913740e-01, -7.11059542e-01,  5.70498060e-02,\n",
       "       -7.85214394e-01, -9.18516132e-01, -1.02907666e+00, -1.58937491e-01,\n",
       "       -7.77699453e-01,  1.42895792e-01,  7.72299871e-02,  1.08239035e+00,\n",
       "        3.98859145e-02, -7.26596891e-02, -9.64695031e-01, -1.12682105e+00,\n",
       "        1.01829108e+00, -6.12786851e-01, -4.22714073e-01, -1.41672983e-01,\n",
       "       -2.68672373e-01,  8.23071041e-01, -8.66106901e-01,  8.83695240e-01,\n",
       "        3.63975663e-01, -1.13200717e-01, -1.12043738e+00,  2.19170412e-03,\n",
       "        1.30087563e+00, -3.65505003e-01, -1.08425883e+00, -1.16852284e-01,\n",
       "        8.62081670e-02,  1.40937541e-03, -3.62535906e-01, -4.04519520e-01,\n",
       "        8.07960994e-01])"
      ]
     },
     "execution_count": 59,
     "metadata": {},
     "output_type": "execute_result"
    }
   ],
   "source": [
    "# Notice that \"grid\" is a fit object!\n",
    "# We can use grid.predict(X_test) to get brand new predictions!\n",
    "grid.best_estimator_.named_steps['ridge_regression'].coef_"
   ]
  },
  {
   "cell_type": "code",
   "execution_count": 62,
   "metadata": {
    "ExecuteTime": {
     "end_time": "2019-02-19T18:05:34.756588Z",
     "start_time": "2019-02-19T18:05:34.728508Z"
    }
   },
   "outputs": [
    {
     "data": {
      "text/html": [
       "<div>\n",
       "<style scoped>\n",
       "    .dataframe tbody tr th:only-of-type {\n",
       "        vertical-align: middle;\n",
       "    }\n",
       "\n",
       "    .dataframe tbody tr th {\n",
       "        vertical-align: top;\n",
       "    }\n",
       "\n",
       "    .dataframe thead th {\n",
       "        text-align: right;\n",
       "    }\n",
       "</style>\n",
       "<table border=\"1\" class=\"dataframe\">\n",
       "  <thead>\n",
       "    <tr style=\"text-align: right;\">\n",
       "      <th></th>\n",
       "      <th>0</th>\n",
       "      <th>1</th>\n",
       "      <th>2</th>\n",
       "      <th>3</th>\n",
       "      <th>4</th>\n",
       "      <th>5</th>\n",
       "      <th>6</th>\n",
       "      <th>7</th>\n",
       "      <th>8</th>\n",
       "      <th>9</th>\n",
       "      <th>...</th>\n",
       "      <th>80</th>\n",
       "      <th>81</th>\n",
       "      <th>82</th>\n",
       "      <th>83</th>\n",
       "      <th>84</th>\n",
       "      <th>85</th>\n",
       "      <th>86</th>\n",
       "      <th>87</th>\n",
       "      <th>88</th>\n",
       "      <th>89</th>\n",
       "    </tr>\n",
       "  </thead>\n",
       "  <tbody>\n",
       "    <tr>\n",
       "      <td>mean_fit_time</td>\n",
       "      <td>0.00300225</td>\n",
       "      <td>0.00233531</td>\n",
       "      <td>0.00300241</td>\n",
       "      <td>0.0030032</td>\n",
       "      <td>0.00200168</td>\n",
       "      <td>0.00266925</td>\n",
       "      <td>0.00233539</td>\n",
       "      <td>0.00266925</td>\n",
       "      <td>0.00300328</td>\n",
       "      <td>0.00200129</td>\n",
       "      <td>...</td>\n",
       "      <td>0.0130035</td>\n",
       "      <td>0.0133285</td>\n",
       "      <td>0.0130098</td>\n",
       "      <td>0.012975</td>\n",
       "      <td>0.013673</td>\n",
       "      <td>0.0136677</td>\n",
       "      <td>0.0143324</td>\n",
       "      <td>0.01168</td>\n",
       "      <td>0.0132959</td>\n",
       "      <td>0.0147593</td>\n",
       "    </tr>\n",
       "    <tr>\n",
       "      <td>std_fit_time</td>\n",
       "      <td>2.9736e-07</td>\n",
       "      <td>0.000472213</td>\n",
       "      <td>3.37175e-07</td>\n",
       "      <td>1.12392e-07</td>\n",
       "      <td>2.24783e-07</td>\n",
       "      <td>0.00047199</td>\n",
       "      <td>0.000470472</td>\n",
       "      <td>0.00047064</td>\n",
       "      <td>2.9736e-07</td>\n",
       "      <td>7.78672e-07</td>\n",
       "      <td>...</td>\n",
       "      <td>0.000812968</td>\n",
       "      <td>0.00125713</td>\n",
       "      <td>1.29845e-05</td>\n",
       "      <td>0.0008269</td>\n",
       "      <td>0.000982444</td>\n",
       "      <td>0.000487667</td>\n",
       "      <td>0.000953108</td>\n",
       "      <td>0.000470586</td>\n",
       "      <td>0.00130613</td>\n",
       "      <td>0.000541695</td>\n",
       "    </tr>\n",
       "    <tr>\n",
       "      <td>mean_score_time</td>\n",
       "      <td>0.00133499</td>\n",
       "      <td>0.00100072</td>\n",
       "      <td>0.00100104</td>\n",
       "      <td>0.00100072</td>\n",
       "      <td>0.00100088</td>\n",
       "      <td>0.00100056</td>\n",
       "      <td>0.00100128</td>\n",
       "      <td>0.00100096</td>\n",
       "      <td>0.0010004</td>\n",
       "      <td>0.00100072</td>\n",
       "      <td>...</td>\n",
       "      <td>0.00666873</td>\n",
       "      <td>0.00667349</td>\n",
       "      <td>0.00600481</td>\n",
       "      <td>0.00633581</td>\n",
       "      <td>0.00700092</td>\n",
       "      <td>0.0073216</td>\n",
       "      <td>0.00732136</td>\n",
       "      <td>0.00600227</td>\n",
       "      <td>0.00628193</td>\n",
       "      <td>0.00767414</td>\n",
       "    </tr>\n",
       "    <tr>\n",
       "      <td>std_score_time</td>\n",
       "      <td>0.000472157</td>\n",
       "      <td>2.9736e-07</td>\n",
       "      <td>5.61958e-07</td>\n",
       "      <td>2.9736e-07</td>\n",
       "      <td>3.37175e-07</td>\n",
       "      <td>4.89904e-07</td>\n",
       "      <td>4.05234e-07</td>\n",
       "      <td>1.07215e-06</td>\n",
       "      <td>1.94668e-07</td>\n",
       "      <td>2.9736e-07</td>\n",
       "      <td>...</td>\n",
       "      <td>0.0009401</td>\n",
       "      <td>0.000943982</td>\n",
       "      <td>7.01885e-07</td>\n",
       "      <td>0.000468111</td>\n",
       "      <td>0.00142001</td>\n",
       "      <td>0.000927811</td>\n",
       "      <td>0.000485769</td>\n",
       "      <td>0.000806803</td>\n",
       "      <td>0.00117272</td>\n",
       "      <td>0.000473845</td>\n",
       "    </tr>\n",
       "    <tr>\n",
       "      <td>param_polynomial_features__degree</td>\n",
       "      <td>1</td>\n",
       "      <td>1</td>\n",
       "      <td>1</td>\n",
       "      <td>1</td>\n",
       "      <td>1</td>\n",
       "      <td>1</td>\n",
       "      <td>1</td>\n",
       "      <td>1</td>\n",
       "      <td>1</td>\n",
       "      <td>1</td>\n",
       "      <td>...</td>\n",
       "      <td>3</td>\n",
       "      <td>3</td>\n",
       "      <td>3</td>\n",
       "      <td>3</td>\n",
       "      <td>3</td>\n",
       "      <td>3</td>\n",
       "      <td>3</td>\n",
       "      <td>3</td>\n",
       "      <td>3</td>\n",
       "      <td>3</td>\n",
       "    </tr>\n",
       "    <tr>\n",
       "      <td>param_ridge_regression__alpha</td>\n",
       "      <td>4</td>\n",
       "      <td>4.22827</td>\n",
       "      <td>4.46956</td>\n",
       "      <td>4.72462</td>\n",
       "      <td>4.99424</td>\n",
       "      <td>5.27925</td>\n",
       "      <td>5.58052</td>\n",
       "      <td>5.89898</td>\n",
       "      <td>6.23562</td>\n",
       "      <td>6.59146</td>\n",
       "      <td>...</td>\n",
       "      <td>12.1369</td>\n",
       "      <td>12.8295</td>\n",
       "      <td>13.5617</td>\n",
       "      <td>14.3356</td>\n",
       "      <td>15.1537</td>\n",
       "      <td>16.0184</td>\n",
       "      <td>16.9326</td>\n",
       "      <td>17.8989</td>\n",
       "      <td>18.9203</td>\n",
       "      <td>20</td>\n",
       "    </tr>\n",
       "    <tr>\n",
       "      <td>params</td>\n",
       "      <td>{'polynomial_features__degree': 1, 'ridge_regr...</td>\n",
       "      <td>{'polynomial_features__degree': 1, 'ridge_regr...</td>\n",
       "      <td>{'polynomial_features__degree': 1, 'ridge_regr...</td>\n",
       "      <td>{'polynomial_features__degree': 1, 'ridge_regr...</td>\n",
       "      <td>{'polynomial_features__degree': 1, 'ridge_regr...</td>\n",
       "      <td>{'polynomial_features__degree': 1, 'ridge_regr...</td>\n",
       "      <td>{'polynomial_features__degree': 1, 'ridge_regr...</td>\n",
       "      <td>{'polynomial_features__degree': 1, 'ridge_regr...</td>\n",
       "      <td>{'polynomial_features__degree': 1, 'ridge_regr...</td>\n",
       "      <td>{'polynomial_features__degree': 1, 'ridge_regr...</td>\n",
       "      <td>...</td>\n",
       "      <td>{'polynomial_features__degree': 3, 'ridge_regr...</td>\n",
       "      <td>{'polynomial_features__degree': 3, 'ridge_regr...</td>\n",
       "      <td>{'polynomial_features__degree': 3, 'ridge_regr...</td>\n",
       "      <td>{'polynomial_features__degree': 3, 'ridge_regr...</td>\n",
       "      <td>{'polynomial_features__degree': 3, 'ridge_regr...</td>\n",
       "      <td>{'polynomial_features__degree': 3, 'ridge_regr...</td>\n",
       "      <td>{'polynomial_features__degree': 3, 'ridge_regr...</td>\n",
       "      <td>{'polynomial_features__degree': 3, 'ridge_regr...</td>\n",
       "      <td>{'polynomial_features__degree': 3, 'ridge_regr...</td>\n",
       "      <td>{'polynomial_features__degree': 3, 'ridge_regr...</td>\n",
       "    </tr>\n",
       "    <tr>\n",
       "      <td>split0_test_score</td>\n",
       "      <td>0.672111</td>\n",
       "      <td>0.672103</td>\n",
       "      <td>0.672093</td>\n",
       "      <td>0.672081</td>\n",
       "      <td>0.672067</td>\n",
       "      <td>0.67205</td>\n",
       "      <td>0.67203</td>\n",
       "      <td>0.672007</td>\n",
       "      <td>0.67198</td>\n",
       "      <td>0.67195</td>\n",
       "      <td>...</td>\n",
       "      <td>0.570925</td>\n",
       "      <td>0.575891</td>\n",
       "      <td>0.580802</td>\n",
       "      <td>0.585658</td>\n",
       "      <td>0.590454</td>\n",
       "      <td>0.595188</td>\n",
       "      <td>0.599857</td>\n",
       "      <td>0.604457</td>\n",
       "      <td>0.608986</td>\n",
       "      <td>0.613441</td>\n",
       "    </tr>\n",
       "    <tr>\n",
       "      <td>split1_test_score</td>\n",
       "      <td>0.748235</td>\n",
       "      <td>0.748207</td>\n",
       "      <td>0.748175</td>\n",
       "      <td>0.748141</td>\n",
       "      <td>0.748104</td>\n",
       "      <td>0.748063</td>\n",
       "      <td>0.748018</td>\n",
       "      <td>0.747969</td>\n",
       "      <td>0.747915</td>\n",
       "      <td>0.747856</td>\n",
       "      <td>...</td>\n",
       "      <td>0.782273</td>\n",
       "      <td>0.786885</td>\n",
       "      <td>0.791249</td>\n",
       "      <td>0.795377</td>\n",
       "      <td>0.799277</td>\n",
       "      <td>0.802959</td>\n",
       "      <td>0.806434</td>\n",
       "      <td>0.809709</td>\n",
       "      <td>0.812795</td>\n",
       "      <td>0.8157</td>\n",
       "    </tr>\n",
       "    <tr>\n",
       "      <td>split2_test_score</td>\n",
       "      <td>0.701801</td>\n",
       "      <td>0.701986</td>\n",
       "      <td>0.702178</td>\n",
       "      <td>0.702375</td>\n",
       "      <td>0.702579</td>\n",
       "      <td>0.702788</td>\n",
       "      <td>0.703003</td>\n",
       "      <td>0.703223</td>\n",
       "      <td>0.703449</td>\n",
       "      <td>0.703679</td>\n",
       "      <td>...</td>\n",
       "      <td>0.53145</td>\n",
       "      <td>0.543618</td>\n",
       "      <td>0.55542</td>\n",
       "      <td>0.566865</td>\n",
       "      <td>0.577963</td>\n",
       "      <td>0.588724</td>\n",
       "      <td>0.599156</td>\n",
       "      <td>0.609271</td>\n",
       "      <td>0.619075</td>\n",
       "      <td>0.628578</td>\n",
       "    </tr>\n",
       "    <tr>\n",
       "      <td>mean_test_score</td>\n",
       "      <td>0.707393</td>\n",
       "      <td>0.707443</td>\n",
       "      <td>0.707493</td>\n",
       "      <td>0.707543</td>\n",
       "      <td>0.707593</td>\n",
       "      <td>0.707643</td>\n",
       "      <td>0.707693</td>\n",
       "      <td>0.707742</td>\n",
       "      <td>0.70779</td>\n",
       "      <td>0.707836</td>\n",
       "      <td>...</td>\n",
       "      <td>0.628407</td>\n",
       "      <td>0.635646</td>\n",
       "      <td>0.642663</td>\n",
       "      <td>0.649463</td>\n",
       "      <td>0.656052</td>\n",
       "      <td>0.662436</td>\n",
       "      <td>0.668619</td>\n",
       "      <td>0.674608</td>\n",
       "      <td>0.680407</td>\n",
       "      <td>0.68602</td>\n",
       "    </tr>\n",
       "    <tr>\n",
       "      <td>std_test_score</td>\n",
       "      <td>0.0313569</td>\n",
       "      <td>0.0313368</td>\n",
       "      <td>0.0313161</td>\n",
       "      <td>0.0312949</td>\n",
       "      <td>0.0312732</td>\n",
       "      <td>0.0312509</td>\n",
       "      <td>0.0312282</td>\n",
       "      <td>0.031205</td>\n",
       "      <td>0.0311814</td>\n",
       "      <td>0.0311573</td>\n",
       "      <td>...</td>\n",
       "      <td>0.110145</td>\n",
       "      <td>0.107907</td>\n",
       "      <td>0.105731</td>\n",
       "      <td>0.103614</td>\n",
       "      <td>0.101553</td>\n",
       "      <td>0.0995475</td>\n",
       "      <td>0.0975945</td>\n",
       "      <td>0.095693</td>\n",
       "      <td>0.0938422</td>\n",
       "      <td>0.0920415</td>\n",
       "    </tr>\n",
       "    <tr>\n",
       "      <td>rank_test_score</td>\n",
       "      <td>60</td>\n",
       "      <td>59</td>\n",
       "      <td>58</td>\n",
       "      <td>57</td>\n",
       "      <td>56</td>\n",
       "      <td>55</td>\n",
       "      <td>54</td>\n",
       "      <td>53</td>\n",
       "      <td>52</td>\n",
       "      <td>50</td>\n",
       "      <td>...</td>\n",
       "      <td>70</td>\n",
       "      <td>69</td>\n",
       "      <td>68</td>\n",
       "      <td>67</td>\n",
       "      <td>66</td>\n",
       "      <td>65</td>\n",
       "      <td>64</td>\n",
       "      <td>63</td>\n",
       "      <td>62</td>\n",
       "      <td>61</td>\n",
       "    </tr>\n",
       "  </tbody>\n",
       "</table>\n",
       "<p>13 rows × 90 columns</p>\n",
       "</div>"
      ],
      "text/plain": [
       "                                                                                  0   \\\n",
       "mean_fit_time                                                             0.00300225   \n",
       "std_fit_time                                                              2.9736e-07   \n",
       "mean_score_time                                                           0.00133499   \n",
       "std_score_time                                                           0.000472157   \n",
       "param_polynomial_features__degree                                                  1   \n",
       "param_ridge_regression__alpha                                                      4   \n",
       "params                             {'polynomial_features__degree': 1, 'ridge_regr...   \n",
       "split0_test_score                                                           0.672111   \n",
       "split1_test_score                                                           0.748235   \n",
       "split2_test_score                                                           0.701801   \n",
       "mean_test_score                                                             0.707393   \n",
       "std_test_score                                                             0.0313569   \n",
       "rank_test_score                                                                   60   \n",
       "\n",
       "                                                                                  1   \\\n",
       "mean_fit_time                                                             0.00233531   \n",
       "std_fit_time                                                             0.000472213   \n",
       "mean_score_time                                                           0.00100072   \n",
       "std_score_time                                                            2.9736e-07   \n",
       "param_polynomial_features__degree                                                  1   \n",
       "param_ridge_regression__alpha                                                4.22827   \n",
       "params                             {'polynomial_features__degree': 1, 'ridge_regr...   \n",
       "split0_test_score                                                           0.672103   \n",
       "split1_test_score                                                           0.748207   \n",
       "split2_test_score                                                           0.701986   \n",
       "mean_test_score                                                             0.707443   \n",
       "std_test_score                                                             0.0313368   \n",
       "rank_test_score                                                                   59   \n",
       "\n",
       "                                                                                  2   \\\n",
       "mean_fit_time                                                             0.00300241   \n",
       "std_fit_time                                                             3.37175e-07   \n",
       "mean_score_time                                                           0.00100104   \n",
       "std_score_time                                                           5.61958e-07   \n",
       "param_polynomial_features__degree                                                  1   \n",
       "param_ridge_regression__alpha                                                4.46956   \n",
       "params                             {'polynomial_features__degree': 1, 'ridge_regr...   \n",
       "split0_test_score                                                           0.672093   \n",
       "split1_test_score                                                           0.748175   \n",
       "split2_test_score                                                           0.702178   \n",
       "mean_test_score                                                             0.707493   \n",
       "std_test_score                                                             0.0313161   \n",
       "rank_test_score                                                                   58   \n",
       "\n",
       "                                                                                  3   \\\n",
       "mean_fit_time                                                              0.0030032   \n",
       "std_fit_time                                                             1.12392e-07   \n",
       "mean_score_time                                                           0.00100072   \n",
       "std_score_time                                                            2.9736e-07   \n",
       "param_polynomial_features__degree                                                  1   \n",
       "param_ridge_regression__alpha                                                4.72462   \n",
       "params                             {'polynomial_features__degree': 1, 'ridge_regr...   \n",
       "split0_test_score                                                           0.672081   \n",
       "split1_test_score                                                           0.748141   \n",
       "split2_test_score                                                           0.702375   \n",
       "mean_test_score                                                             0.707543   \n",
       "std_test_score                                                             0.0312949   \n",
       "rank_test_score                                                                   57   \n",
       "\n",
       "                                                                                  4   \\\n",
       "mean_fit_time                                                             0.00200168   \n",
       "std_fit_time                                                             2.24783e-07   \n",
       "mean_score_time                                                           0.00100088   \n",
       "std_score_time                                                           3.37175e-07   \n",
       "param_polynomial_features__degree                                                  1   \n",
       "param_ridge_regression__alpha                                                4.99424   \n",
       "params                             {'polynomial_features__degree': 1, 'ridge_regr...   \n",
       "split0_test_score                                                           0.672067   \n",
       "split1_test_score                                                           0.748104   \n",
       "split2_test_score                                                           0.702579   \n",
       "mean_test_score                                                             0.707593   \n",
       "std_test_score                                                             0.0312732   \n",
       "rank_test_score                                                                   56   \n",
       "\n",
       "                                                                                  5   \\\n",
       "mean_fit_time                                                             0.00266925   \n",
       "std_fit_time                                                              0.00047199   \n",
       "mean_score_time                                                           0.00100056   \n",
       "std_score_time                                                           4.89904e-07   \n",
       "param_polynomial_features__degree                                                  1   \n",
       "param_ridge_regression__alpha                                                5.27925   \n",
       "params                             {'polynomial_features__degree': 1, 'ridge_regr...   \n",
       "split0_test_score                                                            0.67205   \n",
       "split1_test_score                                                           0.748063   \n",
       "split2_test_score                                                           0.702788   \n",
       "mean_test_score                                                             0.707643   \n",
       "std_test_score                                                             0.0312509   \n",
       "rank_test_score                                                                   55   \n",
       "\n",
       "                                                                                  6   \\\n",
       "mean_fit_time                                                             0.00233539   \n",
       "std_fit_time                                                             0.000470472   \n",
       "mean_score_time                                                           0.00100128   \n",
       "std_score_time                                                           4.05234e-07   \n",
       "param_polynomial_features__degree                                                  1   \n",
       "param_ridge_regression__alpha                                                5.58052   \n",
       "params                             {'polynomial_features__degree': 1, 'ridge_regr...   \n",
       "split0_test_score                                                            0.67203   \n",
       "split1_test_score                                                           0.748018   \n",
       "split2_test_score                                                           0.703003   \n",
       "mean_test_score                                                             0.707693   \n",
       "std_test_score                                                             0.0312282   \n",
       "rank_test_score                                                                   54   \n",
       "\n",
       "                                                                                  7   \\\n",
       "mean_fit_time                                                             0.00266925   \n",
       "std_fit_time                                                              0.00047064   \n",
       "mean_score_time                                                           0.00100096   \n",
       "std_score_time                                                           1.07215e-06   \n",
       "param_polynomial_features__degree                                                  1   \n",
       "param_ridge_regression__alpha                                                5.89898   \n",
       "params                             {'polynomial_features__degree': 1, 'ridge_regr...   \n",
       "split0_test_score                                                           0.672007   \n",
       "split1_test_score                                                           0.747969   \n",
       "split2_test_score                                                           0.703223   \n",
       "mean_test_score                                                             0.707742   \n",
       "std_test_score                                                              0.031205   \n",
       "rank_test_score                                                                   53   \n",
       "\n",
       "                                                                                  8   \\\n",
       "mean_fit_time                                                             0.00300328   \n",
       "std_fit_time                                                              2.9736e-07   \n",
       "mean_score_time                                                            0.0010004   \n",
       "std_score_time                                                           1.94668e-07   \n",
       "param_polynomial_features__degree                                                  1   \n",
       "param_ridge_regression__alpha                                                6.23562   \n",
       "params                             {'polynomial_features__degree': 1, 'ridge_regr...   \n",
       "split0_test_score                                                            0.67198   \n",
       "split1_test_score                                                           0.747915   \n",
       "split2_test_score                                                           0.703449   \n",
       "mean_test_score                                                              0.70779   \n",
       "std_test_score                                                             0.0311814   \n",
       "rank_test_score                                                                   52   \n",
       "\n",
       "                                                                                  9   \\\n",
       "mean_fit_time                                                             0.00200129   \n",
       "std_fit_time                                                             7.78672e-07   \n",
       "mean_score_time                                                           0.00100072   \n",
       "std_score_time                                                            2.9736e-07   \n",
       "param_polynomial_features__degree                                                  1   \n",
       "param_ridge_regression__alpha                                                6.59146   \n",
       "params                             {'polynomial_features__degree': 1, 'ridge_regr...   \n",
       "split0_test_score                                                            0.67195   \n",
       "split1_test_score                                                           0.747856   \n",
       "split2_test_score                                                           0.703679   \n",
       "mean_test_score                                                             0.707836   \n",
       "std_test_score                                                             0.0311573   \n",
       "rank_test_score                                                                   50   \n",
       "\n",
       "                                   ...  \\\n",
       "mean_fit_time                      ...   \n",
       "std_fit_time                       ...   \n",
       "mean_score_time                    ...   \n",
       "std_score_time                     ...   \n",
       "param_polynomial_features__degree  ...   \n",
       "param_ridge_regression__alpha      ...   \n",
       "params                             ...   \n",
       "split0_test_score                  ...   \n",
       "split1_test_score                  ...   \n",
       "split2_test_score                  ...   \n",
       "mean_test_score                    ...   \n",
       "std_test_score                     ...   \n",
       "rank_test_score                    ...   \n",
       "\n",
       "                                                                                  80  \\\n",
       "mean_fit_time                                                              0.0130035   \n",
       "std_fit_time                                                             0.000812968   \n",
       "mean_score_time                                                           0.00666873   \n",
       "std_score_time                                                             0.0009401   \n",
       "param_polynomial_features__degree                                                  3   \n",
       "param_ridge_regression__alpha                                                12.1369   \n",
       "params                             {'polynomial_features__degree': 3, 'ridge_regr...   \n",
       "split0_test_score                                                           0.570925   \n",
       "split1_test_score                                                           0.782273   \n",
       "split2_test_score                                                            0.53145   \n",
       "mean_test_score                                                             0.628407   \n",
       "std_test_score                                                              0.110145   \n",
       "rank_test_score                                                                   70   \n",
       "\n",
       "                                                                                  81  \\\n",
       "mean_fit_time                                                              0.0133285   \n",
       "std_fit_time                                                              0.00125713   \n",
       "mean_score_time                                                           0.00667349   \n",
       "std_score_time                                                           0.000943982   \n",
       "param_polynomial_features__degree                                                  3   \n",
       "param_ridge_regression__alpha                                                12.8295   \n",
       "params                             {'polynomial_features__degree': 3, 'ridge_regr...   \n",
       "split0_test_score                                                           0.575891   \n",
       "split1_test_score                                                           0.786885   \n",
       "split2_test_score                                                           0.543618   \n",
       "mean_test_score                                                             0.635646   \n",
       "std_test_score                                                              0.107907   \n",
       "rank_test_score                                                                   69   \n",
       "\n",
       "                                                                                  82  \\\n",
       "mean_fit_time                                                              0.0130098   \n",
       "std_fit_time                                                             1.29845e-05   \n",
       "mean_score_time                                                           0.00600481   \n",
       "std_score_time                                                           7.01885e-07   \n",
       "param_polynomial_features__degree                                                  3   \n",
       "param_ridge_regression__alpha                                                13.5617   \n",
       "params                             {'polynomial_features__degree': 3, 'ridge_regr...   \n",
       "split0_test_score                                                           0.580802   \n",
       "split1_test_score                                                           0.791249   \n",
       "split2_test_score                                                            0.55542   \n",
       "mean_test_score                                                             0.642663   \n",
       "std_test_score                                                              0.105731   \n",
       "rank_test_score                                                                   68   \n",
       "\n",
       "                                                                                  83  \\\n",
       "mean_fit_time                                                               0.012975   \n",
       "std_fit_time                                                               0.0008269   \n",
       "mean_score_time                                                           0.00633581   \n",
       "std_score_time                                                           0.000468111   \n",
       "param_polynomial_features__degree                                                  3   \n",
       "param_ridge_regression__alpha                                                14.3356   \n",
       "params                             {'polynomial_features__degree': 3, 'ridge_regr...   \n",
       "split0_test_score                                                           0.585658   \n",
       "split1_test_score                                                           0.795377   \n",
       "split2_test_score                                                           0.566865   \n",
       "mean_test_score                                                             0.649463   \n",
       "std_test_score                                                              0.103614   \n",
       "rank_test_score                                                                   67   \n",
       "\n",
       "                                                                                  84  \\\n",
       "mean_fit_time                                                               0.013673   \n",
       "std_fit_time                                                             0.000982444   \n",
       "mean_score_time                                                           0.00700092   \n",
       "std_score_time                                                            0.00142001   \n",
       "param_polynomial_features__degree                                                  3   \n",
       "param_ridge_regression__alpha                                                15.1537   \n",
       "params                             {'polynomial_features__degree': 3, 'ridge_regr...   \n",
       "split0_test_score                                                           0.590454   \n",
       "split1_test_score                                                           0.799277   \n",
       "split2_test_score                                                           0.577963   \n",
       "mean_test_score                                                             0.656052   \n",
       "std_test_score                                                              0.101553   \n",
       "rank_test_score                                                                   66   \n",
       "\n",
       "                                                                                  85  \\\n",
       "mean_fit_time                                                              0.0136677   \n",
       "std_fit_time                                                             0.000487667   \n",
       "mean_score_time                                                            0.0073216   \n",
       "std_score_time                                                           0.000927811   \n",
       "param_polynomial_features__degree                                                  3   \n",
       "param_ridge_regression__alpha                                                16.0184   \n",
       "params                             {'polynomial_features__degree': 3, 'ridge_regr...   \n",
       "split0_test_score                                                           0.595188   \n",
       "split1_test_score                                                           0.802959   \n",
       "split2_test_score                                                           0.588724   \n",
       "mean_test_score                                                             0.662436   \n",
       "std_test_score                                                             0.0995475   \n",
       "rank_test_score                                                                   65   \n",
       "\n",
       "                                                                                  86  \\\n",
       "mean_fit_time                                                              0.0143324   \n",
       "std_fit_time                                                             0.000953108   \n",
       "mean_score_time                                                           0.00732136   \n",
       "std_score_time                                                           0.000485769   \n",
       "param_polynomial_features__degree                                                  3   \n",
       "param_ridge_regression__alpha                                                16.9326   \n",
       "params                             {'polynomial_features__degree': 3, 'ridge_regr...   \n",
       "split0_test_score                                                           0.599857   \n",
       "split1_test_score                                                           0.806434   \n",
       "split2_test_score                                                           0.599156   \n",
       "mean_test_score                                                             0.668619   \n",
       "std_test_score                                                             0.0975945   \n",
       "rank_test_score                                                                   64   \n",
       "\n",
       "                                                                                  87  \\\n",
       "mean_fit_time                                                                0.01168   \n",
       "std_fit_time                                                             0.000470586   \n",
       "mean_score_time                                                           0.00600227   \n",
       "std_score_time                                                           0.000806803   \n",
       "param_polynomial_features__degree                                                  3   \n",
       "param_ridge_regression__alpha                                                17.8989   \n",
       "params                             {'polynomial_features__degree': 3, 'ridge_regr...   \n",
       "split0_test_score                                                           0.604457   \n",
       "split1_test_score                                                           0.809709   \n",
       "split2_test_score                                                           0.609271   \n",
       "mean_test_score                                                             0.674608   \n",
       "std_test_score                                                              0.095693   \n",
       "rank_test_score                                                                   63   \n",
       "\n",
       "                                                                                  88  \\\n",
       "mean_fit_time                                                              0.0132959   \n",
       "std_fit_time                                                              0.00130613   \n",
       "mean_score_time                                                           0.00628193   \n",
       "std_score_time                                                            0.00117272   \n",
       "param_polynomial_features__degree                                                  3   \n",
       "param_ridge_regression__alpha                                                18.9203   \n",
       "params                             {'polynomial_features__degree': 3, 'ridge_regr...   \n",
       "split0_test_score                                                           0.608986   \n",
       "split1_test_score                                                           0.812795   \n",
       "split2_test_score                                                           0.619075   \n",
       "mean_test_score                                                             0.680407   \n",
       "std_test_score                                                             0.0938422   \n",
       "rank_test_score                                                                   62   \n",
       "\n",
       "                                                                                  89  \n",
       "mean_fit_time                                                              0.0147593  \n",
       "std_fit_time                                                             0.000541695  \n",
       "mean_score_time                                                           0.00767414  \n",
       "std_score_time                                                           0.000473845  \n",
       "param_polynomial_features__degree                                                  3  \n",
       "param_ridge_regression__alpha                                                     20  \n",
       "params                             {'polynomial_features__degree': 3, 'ridge_regr...  \n",
       "split0_test_score                                                           0.613441  \n",
       "split1_test_score                                                             0.8157  \n",
       "split2_test_score                                                           0.628578  \n",
       "mean_test_score                                                              0.68602  \n",
       "std_test_score                                                             0.0920415  \n",
       "rank_test_score                                                                   61  \n",
       "\n",
       "[13 rows x 90 columns]"
      ]
     },
     "execution_count": 62,
     "metadata": {},
     "output_type": "execute_result"
    }
   ],
   "source": [
    "pd.DataFrame(grid.cv_results_).T"
   ]
  },
  {
   "cell_type": "markdown",
   "metadata": {},
   "source": [
    "## Summary\n",
    "\n",
    "1. We can manually generate folds by using `KFolds`\n",
    "2. We can get a score using `cross_val_predict(X, y, cv=KFoldObject_or_integer)`. \n",
    "   This will produce the out-of-bag prediction for each row.\n",
    "3. When doing hyperparameter selection, we should be optimizing on out-of-bag scores. This means either using `cross_val_predict` in a loop, or ....\n",
    "4. .... use `GridSearchCV`. GridSearchCV takes a model (or pipeline) and a dictionary of parameters to scan over. It finds the hyperparameter set that has the best out-of-sample score on all the parameters, and calls that it's \"best estimator\". It then retrains on all data with the \"best\" hyper-parameters.\n",
    "\n",
    "### Extensions\n",
    "\n",
    "Here are some additional items to keep in mind:\n",
    "* There is a `RandomSearchCV` that tries random combination of model parameters. This can be helpful if you have a prohibitive number of combinations to test them all exhaustively.\n",
    "* KFolds will randomly select rows to be in the training and test folds. There are other methods (such as `StratifiedKFolds` and `GroupKFold`, which are useful when you need more control over how the data is split (e.g. to prevent data leakage). You can create these specialized objects and pass them to the `cv` argument of `GridSearchCV`."
   ]
  },
  {
   "cell_type": "markdown",
   "metadata": {},
   "source": [
    "---\n",
    "### Machine Learning Foundation (C) 2020 IBM Corporation"
   ]
  }
 ],
 "metadata": {
  "kernelspec": {
   "display_name": "Python 3",
   "language": "python",
   "name": "python3"
  },
  "language_info": {
   "codemirror_mode": {
    "name": "ipython",
    "version": 3
   },
   "file_extension": ".py",
   "mimetype": "text/x-python",
   "name": "python",
   "nbconvert_exporter": "python",
   "pygments_lexer": "ipython3",
   "version": "3.7.4"
  },
  "varInspector": {
   "cols": {
    "lenName": 16,
    "lenType": 16,
    "lenVar": 40
   },
   "kernels_config": {
    "python": {
     "delete_cmd_postfix": "",
     "delete_cmd_prefix": "del ",
     "library": "var_list.py",
     "varRefreshCmd": "print(var_dic_list())"
    },
    "r": {
     "delete_cmd_postfix": ") ",
     "delete_cmd_prefix": "rm(",
     "library": "var_list.r",
     "varRefreshCmd": "cat(var_dic_list()) "
    }
   },
   "types_to_exclude": [
    "module",
    "function",
    "builtin_function_or_method",
    "instance",
    "_Feature"
   ],
   "window_display": false
  }
 },
 "nbformat": 4,
 "nbformat_minor": 4
}
