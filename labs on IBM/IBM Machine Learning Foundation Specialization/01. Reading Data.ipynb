{
 "cells": [
  {
   "cell_type": "markdown",
   "id": "58c36d9c",
   "metadata": {},
   "source": [
    "# Machine Learning Foundation\n",
    "\n",
    "## Section 1, Part a: Reading Data "
   ]
  },
  {
   "cell_type": "markdown",
   "id": "437abb44",
   "metadata": {},
   "source": [
    "### Learning Objective(s)\n",
    "\n",
    " - Create a SQL database connection to a sample SQL database, and read records from that database\n",
    " - Explore common input parameters\n",
    "\n",
    "### Packages\n",
    "\n",
    " - [Pandas](https://pandas.pydata.org/pandas-docs/stable/)\n",
    " - [Pandas.read_sql](https://pandas.pydata.org/pandas-docs/stable/reference/api/pandas.read_sql.html)\n",
    " - [SQLite3](https://docs.python.org/3.6/library/sqlite3.html)"
   ]
  },
  {
   "cell_type": "markdown",
   "id": "fdee4b4d",
   "metadata": {},
   "source": [
    "## Simple data reads\n",
    "\n",
    "Structured Query Language (SQL) is an [ANSI specification](https://docs.oracle.com/database/121/SQLRF/ap_standard_sql001.htm#SQLRF55514), implemented by various databases. SQL is a powerful format for interacting with large databases efficiently, and SQL allows for a consistent experience across a large market of databases. We'll be using sqlite, a lightweight and somewhat restricted version of sql for this example. sqlite uses a slightly modified version of SQL, which may be different than what you're used to. "
   ]
  },
  {
   "cell_type": "code",
   "execution_count": 1,
   "id": "885b4170",
   "metadata": {},
   "outputs": [],
   "source": [
    "# Imports\n",
    "import sqlite3 as sq3\n",
    "import pandas.io.sql as pds\n",
    "import pandas as pd"
   ]
  },
  {
   "cell_type": "markdown",
   "id": "a3aebf54",
   "metadata": {},
   "source": [
    "### Database connections\n",
    "\n",
    "Our first step will be to create a connection to our SQL database. A few common SQL databases used with Python include:\n",
    "\n",
    " - Microsoft SQL Server\n",
    " - Postgres\n",
    " - MySQL\n",
    " - AWS Redshift\n",
    " - AWS Aurora\n",
    " - Oracle DB\n",
    " - Terradata\n",
    " - Db2 Family\n",
    " - Many, many others\n",
    " \n",
    "Each of these databases will require a slightly different setup, and may require credentials (username & password), tokens, or other access requirements. We'll be using `sqlite3` to connect to our database, but other connection packages include:\n",
    "\n",
    " - [`SQLAlchemy`](https://www.sqlalchemy.org/) (most common)\n",
    " - [`psycopg2`](http://initd.org/psycopg/)\n",
    " - [`MySQLdb`](http://mysql-python.sourceforge.net/MySQLdb.html)"
   ]
  },
  {
   "cell_type": "code",
   "execution_count": 3,
   "id": "647bba44",
   "metadata": {},
   "outputs": [],
   "source": [
    "# Initialize path to SQLite database\n",
    "path = 'data/classic_rock.db'\n",
    "con = sq3.Connection(path)\n",
    "\n",
    "# We now have a live connection to our SQL database"
   ]
  },
  {
   "cell_type": "markdown",
   "id": "40a78660",
   "metadata": {},
   "source": [
    "### Reading data\n",
    "\n",
    "Now that we've got a connection to our database, we can perform queries, and load their results in as Pandas DataFrames"
   ]
  },
  {
   "cell_type": "code",
   "execution_count": 4,
   "id": "29c66dad",
   "metadata": {},
   "outputs": [
    {
     "data": {
      "text/html": [
       "<div>\n",
       "<style scoped>\n",
       "    .dataframe tbody tr th:only-of-type {\n",
       "        vertical-align: middle;\n",
       "    }\n",
       "\n",
       "    .dataframe tbody tr th {\n",
       "        vertical-align: top;\n",
       "    }\n",
       "\n",
       "    .dataframe thead th {\n",
       "        text-align: right;\n",
       "    }\n",
       "</style>\n",
       "<table border=\"1\" class=\"dataframe\">\n",
       "  <thead>\n",
       "    <tr style=\"text-align: right;\">\n",
       "      <th></th>\n",
       "      <th>Song</th>\n",
       "      <th>Artist</th>\n",
       "      <th>Release_Year</th>\n",
       "      <th>PlayCount</th>\n",
       "    </tr>\n",
       "  </thead>\n",
       "  <tbody>\n",
       "    <tr>\n",
       "      <th>0</th>\n",
       "      <td>Caught Up in You</td>\n",
       "      <td>.38 Special</td>\n",
       "      <td>1982.0</td>\n",
       "      <td>82</td>\n",
       "    </tr>\n",
       "    <tr>\n",
       "      <th>1</th>\n",
       "      <td>Hold On Loosely</td>\n",
       "      <td>.38 Special</td>\n",
       "      <td>1981.0</td>\n",
       "      <td>85</td>\n",
       "    </tr>\n",
       "    <tr>\n",
       "      <th>2</th>\n",
       "      <td>Rockin' Into the Night</td>\n",
       "      <td>.38 Special</td>\n",
       "      <td>1980.0</td>\n",
       "      <td>18</td>\n",
       "    </tr>\n",
       "    <tr>\n",
       "      <th>3</th>\n",
       "      <td>Art For Arts Sake</td>\n",
       "      <td>10cc</td>\n",
       "      <td>1975.0</td>\n",
       "      <td>1</td>\n",
       "    </tr>\n",
       "    <tr>\n",
       "      <th>4</th>\n",
       "      <td>Kryptonite</td>\n",
       "      <td>3 Doors Down</td>\n",
       "      <td>2000.0</td>\n",
       "      <td>13</td>\n",
       "    </tr>\n",
       "  </tbody>\n",
       "</table>\n",
       "</div>"
      ],
      "text/plain": [
       "                     Song        Artist  Release_Year  PlayCount\n",
       "0        Caught Up in You   .38 Special        1982.0         82\n",
       "1         Hold On Loosely   .38 Special        1981.0         85\n",
       "2  Rockin' Into the Night   .38 Special        1980.0         18\n",
       "3       Art For Arts Sake          10cc        1975.0          1\n",
       "4              Kryptonite  3 Doors Down        2000.0         13"
      ]
     },
     "execution_count": 4,
     "metadata": {},
     "output_type": "execute_result"
    }
   ],
   "source": [
    "# Write the query\n",
    "query = '''\n",
    "SELECT * \n",
    "FROM rock_songs;\n",
    "'''\n",
    "\n",
    "# Execute the query\n",
    "observations = pds.read_sql(query, con)\n",
    "\n",
    "observations.head()"
   ]
  },
  {
   "cell_type": "code",
   "execution_count": 5,
   "id": "0bc31259",
   "metadata": {},
   "outputs": [
    {
     "data": {
      "text/html": [
       "<div>\n",
       "<style scoped>\n",
       "    .dataframe tbody tr th:only-of-type {\n",
       "        vertical-align: middle;\n",
       "    }\n",
       "\n",
       "    .dataframe tbody tr th {\n",
       "        vertical-align: top;\n",
       "    }\n",
       "\n",
       "    .dataframe thead th {\n",
       "        text-align: right;\n",
       "    }\n",
       "</style>\n",
       "<table border=\"1\" class=\"dataframe\">\n",
       "  <thead>\n",
       "    <tr style=\"text-align: right;\">\n",
       "      <th></th>\n",
       "      <th>Artist</th>\n",
       "      <th>Release_Year</th>\n",
       "      <th>num_songs</th>\n",
       "      <th>avg_plays</th>\n",
       "    </tr>\n",
       "  </thead>\n",
       "  <tbody>\n",
       "    <tr>\n",
       "      <th>0</th>\n",
       "      <td>The Beatles</td>\n",
       "      <td>1967.0</td>\n",
       "      <td>23</td>\n",
       "      <td>6.565217</td>\n",
       "    </tr>\n",
       "    <tr>\n",
       "      <th>1</th>\n",
       "      <td>Led Zeppelin</td>\n",
       "      <td>1969.0</td>\n",
       "      <td>18</td>\n",
       "      <td>21.000000</td>\n",
       "    </tr>\n",
       "    <tr>\n",
       "      <th>2</th>\n",
       "      <td>The Beatles</td>\n",
       "      <td>1965.0</td>\n",
       "      <td>15</td>\n",
       "      <td>3.800000</td>\n",
       "    </tr>\n",
       "    <tr>\n",
       "      <th>3</th>\n",
       "      <td>The Beatles</td>\n",
       "      <td>1968.0</td>\n",
       "      <td>13</td>\n",
       "      <td>13.000000</td>\n",
       "    </tr>\n",
       "    <tr>\n",
       "      <th>4</th>\n",
       "      <td>The Beatles</td>\n",
       "      <td>1969.0</td>\n",
       "      <td>13</td>\n",
       "      <td>15.000000</td>\n",
       "    </tr>\n",
       "  </tbody>\n",
       "</table>\n",
       "</div>"
      ],
      "text/plain": [
       "         Artist  Release_Year  num_songs  avg_plays\n",
       "0   The Beatles        1967.0         23   6.565217\n",
       "1  Led Zeppelin        1969.0         18  21.000000\n",
       "2   The Beatles        1965.0         15   3.800000\n",
       "3   The Beatles        1968.0         13  13.000000\n",
       "4   The Beatles        1969.0         13  15.000000"
      ]
     },
     "execution_count": 5,
     "metadata": {},
     "output_type": "execute_result"
    }
   ],
   "source": [
    "# We can also run any supported SQL query\n",
    "# Write the query\n",
    "query = '''\n",
    "SELECT Artist, Release_Year, COUNT(*) AS num_songs, AVG(PlayCount) AS avg_plays  \n",
    "    FROM rock_songs\n",
    "    GROUP BY Artist, Release_Year\n",
    "    ORDER BY num_songs desc;\n",
    "'''\n",
    "\n",
    "# Execute the query\n",
    "observations = pds.read_sql(query, con)\n",
    "\n",
    "observations.head()"
   ]
  },
  {
   "cell_type": "markdown",
   "id": "288182fe",
   "metadata": {},
   "source": [
    "## Common parameters\n",
    "\n",
    "There are a number of common paramters that can be used to read in SQL data with formatting:\n",
    "\n",
    " - coerce_float: Attempt to force numbers into floats\n",
    " - parse_dates: List of columns to parse as dates\n",
    " - chunksize: Number of rows to include in each chunk\n",
    " \n",
    "Let's have a look at using some of these parameters"
   ]
  },
  {
   "cell_type": "code",
   "execution_count": null,
   "id": "8cf90b56",
   "metadata": {},
   "outputs": [],
   "source": []
  }
 ],
 "metadata": {
  "kernelspec": {
   "display_name": "Python 3 (ipykernel)",
   "language": "python",
   "name": "python3"
  },
  "language_info": {
   "codemirror_mode": {
    "name": "ipython",
    "version": 3
   },
   "file_extension": ".py",
   "mimetype": "text/x-python",
   "name": "python",
   "nbconvert_exporter": "python",
   "pygments_lexer": "ipython3",
   "version": "3.8.12"
  }
 },
 "nbformat": 4,
 "nbformat_minor": 5
}
