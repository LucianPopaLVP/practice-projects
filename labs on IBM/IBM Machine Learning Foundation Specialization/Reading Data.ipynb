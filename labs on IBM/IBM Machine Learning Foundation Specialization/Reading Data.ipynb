{
 "cells": [
  {
   "cell_type": "markdown",
   "id": "99c0d9ae",
   "metadata": {},
   "source": [
    "# Machine Learning Foundation\n",
    "\n",
    "## Section 1, Part a: Reading Data "
   ]
  },
  {
   "cell_type": "markdown",
   "id": "49b762fe",
   "metadata": {},
   "source": [
    "### Learning Objective(s)\n",
    "\n",
    " - Create a SQL database connection to a sample SQL database, and read records from that database\n",
    " - Explore common input parameters\n",
    "\n",
    "### Packages\n",
    "\n",
    " - [Pandas](https://pandas.pydata.org/pandas-docs/stable/)\n",
    " - [Pandas.read_sql](https://pandas.pydata.org/pandas-docs/stable/reference/api/pandas.read_sql.html)\n",
    " - [SQLite3](https://docs.python.org/3.6/library/sqlite3.html)"
   ]
  },
  {
   "cell_type": "markdown",
   "id": "18f069f3",
   "metadata": {},
   "source": [
    "## Simple data reads\n",
    "\n",
    "Structured Query Language (SQL) is an [ANSI specification](https://docs.oracle.com/database/121/SQLRF/ap_standard_sql001.htm#SQLRF55514), implemented by various databases. SQL is a powerful format for interacting with large databases efficiently, and SQL allows for a consistent experience across a large market of databases. We'll be using sqlite, a lightweight and somewhat restricted version of sql for this example. sqlite uses a slightly modified version of SQL, which may be different than what you're used to. "
   ]
  },
  {
   "cell_type": "code",
   "execution_count": 1,
   "id": "6d282d1e",
   "metadata": {},
   "outputs": [],
   "source": [
    "# Imports\n",
    "import sqlite3 as sq3\n",
    "import pandas.io.sql as pds\n",
    "import pandas as pd"
   ]
  },
  {
   "cell_type": "code",
   "execution_count": null,
   "id": "2ec1ca19",
   "metadata": {},
   "outputs": [],
   "source": []
  }
 ],
 "metadata": {
  "kernelspec": {
   "display_name": "Python 3 (ipykernel)",
   "language": "python",
   "name": "python3"
  },
  "language_info": {
   "codemirror_mode": {
    "name": "ipython",
    "version": 3
   },
   "file_extension": ".py",
   "mimetype": "text/x-python",
   "name": "python",
   "nbconvert_exporter": "python",
   "pygments_lexer": "ipython3",
   "version": "3.8.12"
  }
 },
 "nbformat": 4,
 "nbformat_minor": 5
}
