{
 "cells": [
  {
   "cell_type": "markdown",
   "id": "18dda201",
   "metadata": {},
   "source": [
    "Linear Algebra Course Notes"
   ]
  },
  {
   "cell_type": "code",
   "execution_count": 1,
   "id": "4dac2f65",
   "metadata": {},
   "outputs": [],
   "source": [
    "import numpy as np\n",
    "import matplotlib.pyplot as plt\n",
    "from mpl_toolkits.mplot3d import Axes3D"
   ]
  },
  {
   "cell_type": "code",
   "execution_count": null,
   "id": "9cd7d4d8",
   "metadata": {},
   "outputs": [],
   "source": [
    "# Algebraic and geometric interpretations\n",
    "\n",
    "# 2-dimensional vector\n",
    "v2 = [3, -2]\n",
    "\n",
    "# 3-dimensional vector\n",
    "c3 = [4, -3, 2]"
   ]
  }
 ],
 "metadata": {
  "kernelspec": {
   "display_name": "Python 3 (ipykernel)",
   "language": "python",
   "name": "python3"
  },
  "language_info": {
   "codemirror_mode": {
    "name": "ipython",
    "version": 3
   },
   "file_extension": ".py",
   "mimetype": "text/x-python",
   "name": "python",
   "nbconvert_exporter": "python",
   "pygments_lexer": "ipython3",
   "version": "3.8.12"
  }
 },
 "nbformat": 4,
 "nbformat_minor": 5
}
