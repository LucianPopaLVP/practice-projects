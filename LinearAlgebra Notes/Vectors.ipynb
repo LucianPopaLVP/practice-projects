{
 "cells": [
  {
   "cell_type": "markdown",
   "id": "666f231d",
   "metadata": {},
   "source": [
    "Linear Algebra Course Notes"
   ]
  },
  {
   "cell_type": "code",
   "execution_count": 1,
   "id": "1fbe13bd",
   "metadata": {},
   "outputs": [],
   "source": [
    "import numpy as np\n",
    "import matplotlib.pyplot as plt\n",
    "from mpl_toolkits.mplot3d import Axes3D"
   ]
  },
  {
   "cell_type": "code",
   "execution_count": null,
   "id": "d2668860",
   "metadata": {},
   "outputs": [],
   "source": [
    "# Algebraic and geometric interpretations\n",
    "\n",
    "# 2-dimensional vector\n",
    "v2 = [3, -2]\n",
    "\n",
    "# 3-dimensional vector\n",
    "v3 = [4, -3, 2]\n",
    "\n",
    "# row to column (or vice-versa):\n",
    "v3t = np.transpose(v3)\n",
    "\n",
    "\n",
    "# plot the 2D vector\n",
    "plt.plot([0,v2[0]],[0,v2[1]])\n",
    "plt.axis('equal')\n",
    "plt.plot([-4, 4],[0, 0],'k--')\n",
    "plt.plot([0, 0],[-4, 4],'k--')\n",
    "plt.grid()\n",
    "plt.axis((-4, 4, -4, 4))\n",
    "plt.show()"
   ]
  },
  {
   "cell_type": "code",
   "execution_count": null,
   "id": "dc37dba1",
   "metadata": {},
   "outputs": [],
   "source": [
    "# plot the 3D vector\n",
    "fig = plt.figure(figsize=plt.figaspect(1))\n",
    "ax = plt.axes(None, projection='3d')\n",
    "ax.plot([0, v3[0]],[0, v3[1]],[0, v3[2]],linewidth=3)\n",
    "\n",
    "# make the plot look nicer\n",
    "ax.plot([0, 0],[0, 0],[-4, 4],'k--')\n",
    "ax.plot([0, 0],[-4, 4],[0, 0],'k--')\n",
    "ax.plot([-4, 4],[0, 0],[0, 0],'k--')\n",
    "plt.show()"
   ]
  }
 ],
 "metadata": {
  "kernelspec": {
   "display_name": "Python 3 (ipykernel)",
   "language": "python",
   "name": "python3"
  },
  "language_info": {
   "codemirror_mode": {
    "name": "ipython",
    "version": 3
   },
   "file_extension": ".py",
   "mimetype": "text/x-python",
   "name": "python",
   "nbconvert_exporter": "python",
   "pygments_lexer": "ipython3",
   "version": "3.8.12"
  }
 },
 "nbformat": 4,
 "nbformat_minor": 5
}
